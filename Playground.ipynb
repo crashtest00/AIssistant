{
 "cells": [
  {
   "cell_type": "code",
   "execution_count": 2,
   "metadata": {},
   "outputs": [],
   "source": [
    "import os\n",
    "import speech_recognition as sr\n",
    "import pyttsx3\n",
    "from dotenv import load_dotenv\n",
    "\n",
    "load_dotenv()\n",
    "\n",
    "KEY = os.environ['API_KEY']\n",
    "\n"
   ]
  },
  {
   "cell_type": "code",
   "execution_count": 30,
   "metadata": {},
   "outputs": [
    {
     "name": "stderr",
     "output_type": "stream",
     "text": [
      "ALSA lib pcm.c:2664:(snd_pcm_open_noupdate) Unknown PCM cards.pcm.rear\n",
      "ALSA lib pcm.c:2664:(snd_pcm_open_noupdate) Unknown PCM cards.pcm.center_lfe\n",
      "ALSA lib pcm.c:2664:(snd_pcm_open_noupdate) Unknown PCM cards.pcm.side\n",
      "ALSA lib pcm_route.c:877:(find_matching_chmap) Found no matching channel map\n",
      "ALSA lib pcm_oss.c:397:(_snd_pcm_oss_open) Cannot open device /dev/dsp\n",
      "ALSA lib pcm_oss.c:397:(_snd_pcm_oss_open) Cannot open device /dev/dsp\n",
      "ALSA lib confmisc.c:160:(snd_config_get_card) Invalid field card\n",
      "ALSA lib pcm_usb_stream.c:482:(_snd_pcm_usb_stream_open) Invalid card 'card'\n",
      "ALSA lib confmisc.c:160:(snd_config_get_card) Invalid field card\n",
      "ALSA lib pcm_usb_stream.c:482:(_snd_pcm_usb_stream_open) Invalid card 'card'\n",
      "ALSA lib pcm.c:2664:(snd_pcm_open_noupdate) Unknown PCM cards.pcm.rear\n",
      "ALSA lib pcm.c:2664:(snd_pcm_open_noupdate) Unknown PCM cards.pcm.center_lfe\n",
      "ALSA lib pcm.c:2664:(snd_pcm_open_noupdate) Unknown PCM cards.pcm.side\n",
      "ALSA lib pcm_route.c:877:(find_matching_chmap) Found no matching channel map\n",
      "ALSA lib pcm_oss.c:397:(_snd_pcm_oss_open) Cannot open device /dev/dsp\n",
      "ALSA lib pcm_oss.c:397:(_snd_pcm_oss_open) Cannot open device /dev/dsp\n",
      "ALSA lib confmisc.c:160:(snd_config_get_card) Invalid field card\n",
      "ALSA lib pcm_usb_stream.c:482:(_snd_pcm_usb_stream_open) Invalid card 'card'\n",
      "ALSA lib confmisc.c:160:(snd_config_get_card) Invalid field card\n",
      "ALSA lib pcm_usb_stream.c:482:(_snd_pcm_usb_stream_open) Invalid card 'card'\n"
     ]
    },
    {
     "name": "stdout",
     "output_type": "stream",
     "text": [
      "Did you say  so this is testing speech-to-text\n",
      "<Voice id=afrikaans\n",
      "          name=afrikaans\n",
      "          languages=[b'\\x05af']\n",
      "          gender=male\n",
      "          age=None> afrikaans\n",
      "<Voice id=aragonese\n",
      "          name=aragonese\n",
      "          languages=[b'\\x05an']\n",
      "          gender=male\n",
      "          age=None> aragonese\n",
      "<Voice id=bulgarian\n",
      "          name=bulgarian\n",
      "          languages=[b'\\x05bg']\n",
      "          gender=None\n",
      "          age=None> bulgarian\n",
      "<Voice id=bengali\n",
      "          name=bengali\n",
      "          languages=[b'\\x05bn']\n",
      "          gender=male\n",
      "          age=None> bengali\n",
      "<Voice id=bosnian\n",
      "          name=bosnian\n",
      "          languages=[b'\\x05bs']\n",
      "          gender=male\n",
      "          age=None> bosnian\n",
      "<Voice id=catalan\n",
      "          name=catalan\n",
      "          languages=[b'\\x05ca']\n",
      "          gender=male\n",
      "          age=None> catalan\n",
      "<Voice id=czech\n",
      "          name=czech\n",
      "          languages=[b'\\x05cs']\n",
      "          gender=male\n",
      "          age=None> czech\n",
      "<Voice id=welsh\n",
      "          name=welsh\n",
      "          languages=[b'\\x05cy']\n",
      "          gender=male\n",
      "          age=None> welsh\n"
     ]
    }
   ],
   "source": [
    "# Speech to text: pyttsx3\n",
    "# Initialize the recognizer\n",
    "r = sr.Recognizer()\n",
    " \n",
    "# Function to convert text to\n",
    "# speech\n",
    "def SpeakText(command):\n",
    "     \n",
    "    # Initialize the engine\n",
    "    engine = pyttsx3.init()\n",
    "    voices = engine.getProperty('voices')\n",
    "    for voice in voices:\n",
    "        print(voice, voice.id)\n",
    "        engine.setProperty('voice', voice.id)\n",
    "        engine.say(command)\n",
    "        engine.runAndWait()\n",
    "        engine.stop()\n",
    "\n",
    "     \n",
    "     \n",
    "# Loop infinitely for user to\n",
    "# speak\n",
    " \n",
    "while(1):   \n",
    "     \n",
    "    # Exception handling to handle\n",
    "    # exceptions at the runtime\n",
    "    try:\n",
    "         \n",
    "        # use the microphone as source for input.\n",
    "        with sr.Microphone() as source2:\n",
    "\n",
    "             \n",
    "            # wait for a second to let the recognizer\n",
    "            # adjust the energy threshold based on\n",
    "            # the surrounding noise level\n",
    "            r.adjust_for_ambient_noise(source2, duration=0.2)\n",
    "             \n",
    "            #listens for the user's input\n",
    "            audio2 = r.listen(source2)\n",
    "             \n",
    "            # Using google to recognize audio\n",
    "            MyText = r.recognize_google(audio2)\n",
    "            MyText = MyText.lower()\n",
    "            print(\"Did you say \",MyText)\n",
    "            SpeakText(MyText)\n",
    "             \n",
    "    except sr.RequestError as e:\n",
    "        print(\"Could not request results; {0}\".format(e))\n",
    "         \n",
    "    except sr.UnknownValueError:\n",
    "        print(\"unknown error occurred\")"
   ]
  },
  {
   "cell_type": "code",
   "execution_count": 3,
   "metadata": {},
   "outputs": [
    {
     "name": "stderr",
     "output_type": "stream",
     "text": [
      "ALSA lib pcm.c:2664:(snd_pcm_open_noupdate) Unknown PCM cards.pcm.rear\n",
      "ALSA lib pcm.c:2664:(snd_pcm_open_noupdate) Unknown PCM cards.pcm.center_lfe\n",
      "ALSA lib pcm.c:2664:(snd_pcm_open_noupdate) Unknown PCM cards.pcm.side\n",
      "ALSA lib pcm_route.c:877:(find_matching_chmap) Found no matching channel map\n",
      "ALSA lib pcm_oss.c:397:(_snd_pcm_oss_open) Cannot open device /dev/dsp\n",
      "ALSA lib pcm_oss.c:397:(_snd_pcm_oss_open) Cannot open device /dev/dsp\n",
      "ALSA lib confmisc.c:160:(snd_config_get_card) Invalid field card\n",
      "ALSA lib pcm_usb_stream.c:482:(_snd_pcm_usb_stream_open) Invalid card 'card'\n",
      "ALSA lib confmisc.c:160:(snd_config_get_card) Invalid field card\n",
      "ALSA lib pcm_usb_stream.c:482:(_snd_pcm_usb_stream_open) Invalid card 'card'\n",
      "ALSA lib pcm.c:2664:(snd_pcm_open_noupdate) Unknown PCM cards.pcm.rear\n",
      "ALSA lib pcm.c:2664:(snd_pcm_open_noupdate) Unknown PCM cards.pcm.center_lfe\n",
      "ALSA lib pcm.c:2664:(snd_pcm_open_noupdate) Unknown PCM cards.pcm.side\n",
      "ALSA lib pcm_route.c:877:(find_matching_chmap) Found no matching channel map\n",
      "ALSA lib pcm_oss.c:397:(_snd_pcm_oss_open) Cannot open device /dev/dsp\n",
      "ALSA lib pcm_oss.c:397:(_snd_pcm_oss_open) Cannot open device /dev/dsp\n",
      "ALSA lib confmisc.c:160:(snd_config_get_card) Invalid field card\n",
      "ALSA lib pcm_usb_stream.c:482:(_snd_pcm_usb_stream_open) Invalid card 'card'\n",
      "ALSA lib confmisc.c:160:(snd_config_get_card) Invalid field card\n",
      "ALSA lib pcm_usb_stream.c:482:(_snd_pcm_usb_stream_open) Invalid card 'card'\n"
     ]
    },
    {
     "name": "stdout",
     "output_type": "stream",
     "text": [
      "Did you say  so now we're going he's a different voice\n"
     ]
    },
    {
     "ename": "ModuleNotFoundError",
     "evalue": "No module named 'coqui_tts'",
     "output_type": "error",
     "traceback": [
      "\u001b[0;31m---------------------------------------------------------------------------\u001b[0m",
      "\u001b[0;31mModuleNotFoundError\u001b[0m                       Traceback (most recent call last)",
      "\u001b[0;32m/tmp/ipykernel_3216196/412991650.py\u001b[0m in \u001b[0;36m<module>\u001b[0;34m\u001b[0m\n\u001b[1;32m     42\u001b[0m             \u001b[0mMyText\u001b[0m \u001b[0;34m=\u001b[0m \u001b[0mMyText\u001b[0m\u001b[0;34m.\u001b[0m\u001b[0mlower\u001b[0m\u001b[0;34m(\u001b[0m\u001b[0;34m)\u001b[0m\u001b[0;34m\u001b[0m\u001b[0;34m\u001b[0m\u001b[0m\n\u001b[1;32m     43\u001b[0m             \u001b[0mprint\u001b[0m\u001b[0;34m(\u001b[0m\u001b[0;34m\"Did you say \"\u001b[0m\u001b[0;34m,\u001b[0m\u001b[0mMyText\u001b[0m\u001b[0;34m)\u001b[0m\u001b[0;34m\u001b[0m\u001b[0;34m\u001b[0m\u001b[0m\n\u001b[0;32m---> 44\u001b[0;31m             \u001b[0mSpeakText\u001b[0m\u001b[0;34m(\u001b[0m\u001b[0mMyText\u001b[0m\u001b[0;34m)\u001b[0m\u001b[0;34m\u001b[0m\u001b[0;34m\u001b[0m\u001b[0m\n\u001b[0m\u001b[1;32m     45\u001b[0m \u001b[0;34m\u001b[0m\u001b[0m\n\u001b[1;32m     46\u001b[0m     \u001b[0;32mexcept\u001b[0m \u001b[0msr\u001b[0m\u001b[0;34m.\u001b[0m\u001b[0mRequestError\u001b[0m \u001b[0;32mas\u001b[0m \u001b[0me\u001b[0m\u001b[0;34m:\u001b[0m\u001b[0;34m\u001b[0m\u001b[0;34m\u001b[0m\u001b[0m\n",
      "\u001b[0;32m/tmp/ipykernel_3216196/412991650.py\u001b[0m in \u001b[0;36mSpeakText\u001b[0;34m(command)\u001b[0m\n\u001b[1;32m      7\u001b[0m \u001b[0;32mdef\u001b[0m \u001b[0mSpeakText\u001b[0m\u001b[0;34m(\u001b[0m\u001b[0mcommand\u001b[0m\u001b[0;34m)\u001b[0m\u001b[0;34m:\u001b[0m\u001b[0;34m\u001b[0m\u001b[0;34m\u001b[0m\u001b[0m\n\u001b[1;32m      8\u001b[0m \u001b[0;34m\u001b[0m\u001b[0m\n\u001b[0;32m----> 9\u001b[0;31m     \u001b[0;32mfrom\u001b[0m \u001b[0mcoqui_tts\u001b[0m \u001b[0;32mimport\u001b[0m \u001b[0mSynthesizer\u001b[0m\u001b[0;34m\u001b[0m\u001b[0;34m\u001b[0m\u001b[0m\n\u001b[0m\u001b[1;32m     10\u001b[0m     \u001b[0;31m# Load a pre-trained model\u001b[0m\u001b[0;34m\u001b[0m\u001b[0;34m\u001b[0m\u001b[0m\n\u001b[1;32m     11\u001b[0m     \u001b[0mmodel\u001b[0m \u001b[0;34m=\u001b[0m \u001b[0mSynthesizer\u001b[0m\u001b[0;34m.\u001b[0m\u001b[0mfrom_pretrained\u001b[0m\u001b[0;34m(\u001b[0m\u001b[0;34m\"tts_models/coqui_tts/cleanup\"\u001b[0m\u001b[0;34m)\u001b[0m\u001b[0;34m\u001b[0m\u001b[0;34m\u001b[0m\u001b[0m\n",
      "\u001b[0;31mModuleNotFoundError\u001b[0m: No module named 'coqui_tts'"
     ]
    }
   ],
   "source": [
    "# Speech to text: coquiTTS\n",
    "# Initialize the recognizer\n",
    "r = sr.Recognizer()\n",
    " \n",
    "# Function to convert text to\n",
    "# speech\n",
    "def SpeakText(command):\n",
    "     \n",
    "    from coqui_tts import Synthesizer\n",
    "    # Load a pre-trained model\n",
    "    model = Synthesizer.from_pretrained(\"tts_models/coqui_tts/cleanup\")\n",
    "    # Synthesize speech\n",
    "    text = \"Hello, world!\"\n",
    "    audio = model.synthesize(text)\n",
    "    # Save audio to file\n",
    "    with open(\"output.wav\", \"wb\") as f:\n",
    "        f.write(audio)\n",
    "\n",
    "# Loop infinitely for user to\n",
    "# speak\n",
    " \n",
    "while(1):   \n",
    "     \n",
    "    # Exception handling to handle\n",
    "    # exceptions at the runtime\n",
    "    try:\n",
    "         \n",
    "        # use the microphone as source for input.\n",
    "        with sr.Microphone() as source2:\n",
    "\n",
    "             \n",
    "            # wait for a second to let the recognizer\n",
    "            # adjust the energy threshold based on\n",
    "            # the surrounding noise level\n",
    "            r.adjust_for_ambient_noise(source2, duration=0.2)\n",
    "             \n",
    "            #listens for the user's input\n",
    "            audio2 = r.listen(source2)\n",
    "             \n",
    "            # Using google to recognize audio\n",
    "            MyText = r.recognize_google(audio2)\n",
    "            MyText = MyText.lower()\n",
    "            print(\"Did you say \",MyText)\n",
    "            SpeakText(MyText)\n",
    "             \n",
    "    except sr.RequestError as e:\n",
    "        print(\"Could not request results; {0}\".format(e))\n",
    "         \n",
    "    except sr.UnknownValueError:\n",
    "        print(\"unknown error occurred\")"
   ]
  },
  {
   "cell_type": "code",
   "execution_count": 4,
   "metadata": {},
   "outputs": [],
   "source": [
    "# TTS Sandbox\n",
    "\n",
    "from TTS.api import TTS"
   ]
  },
  {
   "cell_type": "code",
   "execution_count": 22,
   "metadata": {},
   "outputs": [],
   "source": [
    "# TTS Speech Function\n",
    "def readThis(script):\n",
    "    from TTS.api import TTS\n",
    "    import os.path\n",
    "    import time\n",
    "    from playsound import playsound\n",
    "    model_name = TTS.list_models()[6]\n",
    "    # Init TTS\n",
    "    tts = TTS(model_name)\n",
    "    print(vars(tts))\n",
    "    tts.tts_to_file(text=script, file_path='output.wav')\n",
    "    while not os.path.exists('output.wav'):\n",
    "        time.sleep(1)\n",
    "    if os.path.isfile('output.wav'):\n",
    "        playsound('output.wav')\n",
    "    else:\n",
    "        raise ValueError(\"%s isn't a file!\" % 'output.wav')\n",
    "\n"
   ]
  },
  {
   "cell_type": "code",
   "execution_count": 5,
   "metadata": {},
   "outputs": [
    {
     "name": "stderr",
     "output_type": "stream",
     "text": [
      "ALSA lib pcm.c:2664:(snd_pcm_open_noupdate) Unknown PCM cards.pcm.rear\n",
      "ALSA lib pcm.c:2664:(snd_pcm_open_noupdate) Unknown PCM cards.pcm.center_lfe\n",
      "ALSA lib pcm.c:2664:(snd_pcm_open_noupdate) Unknown PCM cards.pcm.side\n",
      "ALSA lib pcm_route.c:877:(find_matching_chmap) Found no matching channel map\n",
      "ALSA lib pcm_oss.c:397:(_snd_pcm_oss_open) Cannot open device /dev/dsp\n",
      "ALSA lib pcm_oss.c:397:(_snd_pcm_oss_open) Cannot open device /dev/dsp\n",
      "ALSA lib confmisc.c:160:(snd_config_get_card) Invalid field card\n",
      "ALSA lib pcm_usb_stream.c:482:(_snd_pcm_usb_stream_open) Invalid card 'card'\n",
      "ALSA lib confmisc.c:160:(snd_config_get_card) Invalid field card\n",
      "ALSA lib pcm_usb_stream.c:482:(_snd_pcm_usb_stream_open) Invalid card 'card'\n",
      "ALSA lib pcm.c:2664:(snd_pcm_open_noupdate) Unknown PCM cards.pcm.rear\n",
      "ALSA lib pcm.c:2664:(snd_pcm_open_noupdate) Unknown PCM cards.pcm.center_lfe\n",
      "ALSA lib pcm.c:2664:(snd_pcm_open_noupdate) Unknown PCM cards.pcm.side\n",
      "ALSA lib pcm_route.c:877:(find_matching_chmap) Found no matching channel map\n",
      "ALSA lib pcm_oss.c:397:(_snd_pcm_oss_open) Cannot open device /dev/dsp\n",
      "ALSA lib pcm_oss.c:397:(_snd_pcm_oss_open) Cannot open device /dev/dsp\n",
      "ALSA lib confmisc.c:160:(snd_config_get_card) Invalid field card\n",
      "ALSA lib pcm_usb_stream.c:482:(_snd_pcm_usb_stream_open) Invalid card 'card'\n",
      "ALSA lib confmisc.c:160:(snd_config_get_card) Invalid field card\n",
      "ALSA lib pcm_usb_stream.c:482:(_snd_pcm_usb_stream_open) Invalid card 'card'\n"
     ]
    },
    {
     "name": "stdout",
     "output_type": "stream",
     "text": [
      "Did you say  now we're going to use a different voice\n"
     ]
    },
    {
     "ename": "NameError",
     "evalue": "name 'readThis' is not defined",
     "output_type": "error",
     "traceback": [
      "\u001b[0;31m---------------------------------------------------------------------------\u001b[0m",
      "\u001b[0;31mNameError\u001b[0m                                 Traceback (most recent call last)",
      "\u001b[0;32m/tmp/ipykernel_3216196/2647040666.py\u001b[0m in \u001b[0;36m<module>\u001b[0;34m\u001b[0m\n\u001b[1;32m     28\u001b[0m             \u001b[0mMyText\u001b[0m \u001b[0;34m=\u001b[0m \u001b[0mMyText\u001b[0m\u001b[0;34m.\u001b[0m\u001b[0mlower\u001b[0m\u001b[0;34m(\u001b[0m\u001b[0;34m)\u001b[0m\u001b[0;34m\u001b[0m\u001b[0;34m\u001b[0m\u001b[0m\n\u001b[1;32m     29\u001b[0m             \u001b[0mprint\u001b[0m\u001b[0;34m(\u001b[0m\u001b[0;34m\"Did you say \"\u001b[0m\u001b[0;34m,\u001b[0m\u001b[0mMyText\u001b[0m\u001b[0;34m)\u001b[0m\u001b[0;34m\u001b[0m\u001b[0;34m\u001b[0m\u001b[0m\n\u001b[0;32m---> 30\u001b[0;31m             \u001b[0mreadThis\u001b[0m\u001b[0;34m(\u001b[0m\u001b[0mMyText\u001b[0m\u001b[0;34m)\u001b[0m\u001b[0;34m\u001b[0m\u001b[0;34m\u001b[0m\u001b[0m\n\u001b[0m\u001b[1;32m     31\u001b[0m \u001b[0;34m\u001b[0m\u001b[0m\n\u001b[1;32m     32\u001b[0m     \u001b[0;32mexcept\u001b[0m \u001b[0msr\u001b[0m\u001b[0;34m.\u001b[0m\u001b[0mRequestError\u001b[0m \u001b[0;32mas\u001b[0m \u001b[0me\u001b[0m\u001b[0;34m:\u001b[0m\u001b[0;34m\u001b[0m\u001b[0;34m\u001b[0m\u001b[0m\n",
      "\u001b[0;31mNameError\u001b[0m: name 'readThis' is not defined"
     ]
    }
   ],
   "source": [
    "# Speech to text: pyttsx3\n",
    "# Initialize the recognizer\n",
    "r = sr.Recognizer()\n",
    "         \n",
    "# Loop infinitely for user to\n",
    "# speak\n",
    " \n",
    "while(1):   \n",
    "     \n",
    "    # Exception handling to handle\n",
    "    # exceptions at the runtime\n",
    "    try:\n",
    "         \n",
    "        # use the microphone as source for input.\n",
    "        with sr.Microphone() as source2:\n",
    "\n",
    "             \n",
    "            # wait for a second to let the recognizer\n",
    "            # adjust the energy threshold based on\n",
    "            # the surrounding noise level\n",
    "            r.adjust_for_ambient_noise(source2, duration=0.2)\n",
    "             \n",
    "            #listens for the user's input\n",
    "            audio2 = r.listen(source2)\n",
    "             \n",
    "            # Using google to recognize audio\n",
    "            MyText = r.recognize_google(audio2)\n",
    "            MyText = MyText.lower()\n",
    "            print(\"Did you say \",MyText)\n",
    "            readThis(MyText)\n",
    "             \n",
    "    except sr.RequestError as e:\n",
    "        print(\"Could not request results; {0}\".format(e))\n",
    "         \n",
    "    except sr.UnknownValueError:\n",
    "        print(\"unknown error occurred\")"
   ]
  },
  {
   "cell_type": "code",
   "execution_count": 8,
   "metadata": {},
   "outputs": [],
   "source": [
    "# Languages\n",
    "voices = [{\"identifier\": \"ur-PK-language\", \"language\": \"ur-PK\", \"name\": \"ur-PK-language\", \"quality\": \"Enhanced\"}, {\"identifier\": \"kn-in-x-knm-network\", \"language\": \"kn-IN\", \"name\": \"kn-in-x-knm-network\", \"quality\": \"Enhanced\"}, {\"identifier\": \"ru-ru-x-rud-local\", \"language\": \"ru-RU\", \"name\": \"ru-ru-x-rud-local\", \"quality\": \"Enhanced\"}, {\"identifier\": \"en-gb-x-gbb-network\", \"language\": \"en-GB\", \"name\": \"en-gb-x-gbb-network\", \"quality\": \"Enhanced\"}, {\"identifier\": \"uk-UA-language\", \"language\": \"uk-UA\", \"name\": \"uk-UA-language\", \"quality\": \"Enhanced\"}, {\"identifier\": \"sv-se-x-lfs-local\", \"language\": \"sv-SE\", \"name\": \"sv-se-x-lfs-local\", \"quality\": \"Enhanced\"}, {\"identifier\": \"cmn-tw-x-ctc-network\", \"language\": \"zh-TW\", \"name\": \"cmn-tw-x-ctc-network\", \"quality\": \"Enhanced\"}, {\"identifier\": \"en-in-x-end-network\", \"language\": \"en-IN\", \"name\": \"en-in-x-end-network\", \"quality\": \"Enhanced\"}, {\"identifier\": \"bn-BD-language\", \"language\": \"bn-BD\", \"name\": \"bn-BD-language\", \"quality\": \"Enhanced\"}, {\"identifier\": \"vi-vn-x-vid-network\", \"language\": \"vi-VN\", \"name\": \"vi-vn-x-vid-network\", \"quality\": \"Enhanced\"}, {\"identifier\": \"yue-hk-x-yud-network\", \"language\": \"yue-HK\", \"name\": \"yue-hk-x-yud-network\", \"quality\": \"Enhanced\"}, {\"identifier\": \"pl-pl-x-bmg-network\", \"language\": \"pl-PL\", \"name\": \"pl-pl-x-bmg-network\", \"quality\": \"Enhanced\"}, {\"identifier\": \"id-id-x-dfz-network\", \"language\": \"in-ID\", \"name\": \"id-id-x-dfz-network\", \"quality\": \"Enhanced\"}, {\"identifier\": \"en-au-x-aud-network\", \"language\": \"en-AU\", \"name\": \"en-au-x-aud-network\", \"quality\": \"Enhanced\"}, {\"identifier\": \"pl-pl-x-zfg-network\", \"language\": \"pl-PL\", \"name\": \"pl-pl-x-zfg-network\", \"quality\": \"Enhanced\"}, {\"identifier\": \"he-il-x-hec-local\", \"language\": \"iw-IL\", \"name\": \"he-il-x-hec-local\", \"quality\": \"Enhanced\"}, {\"identifier\": \"tr-tr-x-tmc-local\", \"language\": \"tr-TR\", \"name\": \"tr-tr-x-tmc-local\", \"quality\": \"Enhanced\"}, {\"identifier\": \"fr-fr-x-vlf-network\", \"language\": \"fr-FR\", \"name\": \"fr-fr-x-vlf-network\", \"quality\": \"Enhanced\"}, {\"identifier\": \"ar-language\", \"language\": \"ar\", \"name\": \"ar-language\", \"quality\": \"Enhanced\"}, {\"identifier\": \"fr-CA-language\", \"language\": \"fr-CA\", \"name\": \"fr-CA-language\", \"quality\": \"Enhanced\"}, {\"identifier\": \"ms-my-x-msc-local\", \"language\": \"ms-MY\", \"name\": \"ms-my-x-msc-local\", \"quality\": \"Enhanced\"}, {\"identifier\": \"bs-ba-x-bsm-local\", \"language\": \"bs-BA\", \"name\": \"bs-ba-x-bsm-local\", \"quality\": \"Default\"}, {\"identifier\": \"bn-bd-x-ban-network\", \"language\": \"bn-BD\", \"name\": \"bn-bd-x-ban-network\", \"quality\": \"Enhanced\"}, {\"identifier\": \"bn-bd-x-ban-local\", \"language\": \"bn-BD\", \"name\": \"bn-bd-x-ban-local\", \"quality\": \"Enhanced\"}, {\"identifier\": \"hr-hr-x-hra-local\", \"language\": \"hr-HR\", \"name\": \"hr-hr-x-hra-local\", \"quality\": \"Enhanced\"}, {\"identifier\": \"cmn-cn-x-ssa-network\", \"language\": \"zh-CN\", \"name\": \"cmn-cn-x-ssa-network\", \"quality\": \"Enhanced\"}, {\"identifier\": \"el-GR-language\", \"language\": \"el-GR\", \"name\": \"el-GR-language\", \"quality\": \"Enhanced\"}, {\"identifier\": \"en-us-x-sfg-local\", \"language\": \"en-US\", \"name\": \"en-us-x-sfg-local\", \"quality\": \"Enhanced\"}, {\"identifier\": \"fil-PH-language\", \"language\": \"fil-PH\", \"name\": \"fil-PH-language\", \"quality\": \"Enhanced\"}, {\"identifier\": \"en-in-x-ene-local\", \"language\": \"en-IN\", \"name\": \"en-in-x-ene-local\", \"quality\": \"Enhanced\"}, {\"identifier\": \"pl-pl-x-jmk-network\", \"language\": \"pl-PL\", \"name\": \"pl-pl-x-jmk-network\", \"quality\": \"Enhanced\"}, {\"identifier\": \"ru-ru-x-rue-network\", \"language\": \"ru-RU\", \"name\": \"ru-ru-x-rue-network\", \"quality\": \"Enhanced\"}, {\"identifier\": \"fi-FI-language\", \"language\": \"fi-FI\", \"name\": \"fi-FI-language\", \"quality\": \"Enhanced\"}, {\"identifier\": \"hu-HU-language\", \"language\": \"hu-HU\", \"name\": \"hu-HU-language\", \"quality\": \"Enhanced\"}, {\"identifier\": \"fil-ph-x-fie-local\", \"language\": \"fil-PH\", \"name\": \"fil-ph-x-fie-local\", \"quality\": \"Enhanced\"}, {\"identifier\": \"sv-se-x-afp-local\", \"language\": \"sv-SE\", \"name\": \"sv-se-x-afp-local\", \"quality\": \"Enhanced\"}, {\"identifier\": \"si-lk-x-sin-local\", \"language\": \"si-LK\", \"name\": \"si-lk-x-sin-local\", \"quality\": \"Enhanced\"}, {\"identifier\": \"sk-sk-x-sfk-local\", \"language\": \"sk-SK\", \"name\": \"sk-sk-x-sfk-local\", \"quality\": \"Enhanced\"}, {\"identifier\": \"cmn-cn-x-ccc-network\", \"language\": \"zh-CN\", \"name\": \"cmn-cn-x-ccc-network\", \"quality\": \"Enhanced\"}, {\"identifier\": \"km-KH-language\", \"language\": \"km-KH\", \"name\": \"km-KH-language\", \"quality\": \"Enhanced\"}, {\"identifier\": \"bs-ba-language\", \"language\": \"bs-BA\", \"name\": \"bs-ba-language\", \"quality\": \"Enhanced\"}, {\"identifier\": \"pt-pt-x-jmn-network\", \"language\": \"pt-PT\", \"name\": \"pt-pt-x-jmn-network\", \"quality\": \"Enhanced\"}, {\"identifier\": \"fr-fr-x-frc-network\", \"language\": \"fr-FR\", \"name\": \"fr-fr-x-frc-network\", \"quality\": \"Enhanced\"}, {\"identifier\": \"nl-nl-x-dma-network\", \"language\": \"nl-NL\", \"name\": \"nl-nl-x-dma-network\", \"quality\": \"Enhanced\"}, {\"identifier\": \"cs-cz-x-jfs-local\", \"language\": \"cs-CZ\", \"name\": \"cs-cz-x-jfs-local\", \"quality\": \"Enhanced\"}, {\"identifier\": \"tr-tr-x-efu-network\", \"language\": \"tr-TR\", \"name\": \"tr-tr-x-efu-network\", \"quality\": \"Enhanced\"}, {\"identifier\": \"hr-hr-x-hrb-network\", \"language\": \"hr-HR\", \"name\": \"hr-hr-x-hrb-network\", \"quality\": \"Enhanced\"}, {\"identifier\": \"tr-tr-x-mfm-local\", \"language\": \"tr-TR\", \"name\": \"tr-tr-x-mfm-local\", \"quality\": \"Enhanced\"}, {\"identifier\": \"is-is-x-isf-local\", \"language\": \"is-IS\", \"name\": \"is-is-x-isf-local\", \"quality\": \"Enhanced\"}, {\"identifier\": \"hi-in-x-hie-local\", \"language\": \"hi-IN\", \"name\": \"hi-in-x-hie-local\", \"quality\": \"Enhanced\"}, {\"identifier\": \"sv-se-x-dmc-local\", \"language\": \"sv-SE\", \"name\": \"sv-se-x-dmc-local\", \"quality\": \"Enhanced\"}, {\"identifier\": \"he-il-language\", \"language\": \"iw-IL\", \"name\": \"he-il-language\", \"quality\": \"Enhanced\"}, {\"identifier\": \"fi-fi-x-afi-local\", \"language\": \"fi-FI\", \"name\": \"fi-fi-x-afi-local\", \"quality\": \"Enhanced\"}, {\"identifier\": \"kn-in-x-knf-network\", \"language\": \"kn-IN\", \"name\": \"kn-in-x-knf-network\", \"quality\": \"Enhanced\"}, {\"identifier\": \"kn-in-x-knm-local\", \"language\": \"kn-IN\", \"name\": \"kn-in-x-knm-local\", \"quality\": \"Enhanced\"}, {\"identifier\": \"is-is-x-isf-network\", \"language\": \"is-IS\", \"name\": \"is-is-x-isf-network\", \"quality\": \"Enhanced\"}, {\"identifier\": \"es-us-x-esf-network\", \"language\": \"es-US\", \"name\": \"es-us-x-esf-network\", \"quality\": \"Enhanced\"}, {\"identifier\": \"yue-hk-x-jar-network\", \"language\": \"yue-HK\", \"name\": \"yue-hk-x-jar-network\", \"quality\": \"Enhanced\"}, {\"identifier\": \"fr-fr-x-frb-local\", \"language\": \"fr-FR\", \"name\": \"fr-fr-x-frb-local\", \"quality\": \"Enhanced\"}, {\"identifier\": \"el-gr-x-vfz-local\", \"language\": \"el-GR\", \"name\": \"el-gr-x-vfz-local\", \"quality\": \"Enhanced\"}, {\"identifier\": \"en-in-x-ahp-local\", \"language\": \"en-IN\", \"name\": \"en-in-x-ahp-local\", \"quality\": \"Enhanced\"}, {\"identifier\": \"en-gb-x-gbb-local\", \"language\": \"en-GB\", \"name\": \"en-gb-x-gbb-local\", \"quality\": \"Enhanced\"}, {\"identifier\": \"sv-se-x-dmc-network\", \"language\": \"sv-SE\", \"name\": \"sv-se-x-dmc-network\", \"quality\": \"Enhanced\"}, {\"identifier\": \"ar-xa-x-arc-local\", \"language\": \"ar\", \"name\": \"ar-xa-x-arc-local\", \"quality\": \"Enhanced\"}, {\"identifier\": \"gu-IN-language\", \"language\": \"gu-IN\", \"name\": \"gu-IN-language\", \"quality\": \"Enhanced\"}, {\"identifier\": \"pt-br-x-pte-local\", \"language\": \"pt-BR\", \"name\": \"pt-br-x-pte-local\", \"quality\": \"Enhanced\"}, {\"identifier\": \"es-es-x-eed-local\", \"language\": \"es-ES\", \"name\": \"es-es-x-eed-local\", \"quality\": \"Enhanced\"}, {\"identifier\": \"nb-no-x-rfj-network\", \"language\": \"nb-NO\", \"name\": \"nb-no-x-rfj-network\", \"quality\": \"Enhanced\"}, {\"identifier\": \"de-DE-language\", \"language\": \"de-DE\", \"name\": \"de-DE-language\", \"quality\": \"Enhanced\"}, {\"identifier\": \"fr-fr-x-frd-network\", \"language\": \"fr-FR\", \"name\": \"fr-fr-x-frd-network\", \"quality\": \"Enhanced\"}, {\"identifier\": \"yue-hk-x-yuf-local\", \"language\": \"yue-HK\", \"name\": \"yue-hk-x-yuf-local\", \"quality\": \"Enhanced\"}, {\"identifier\": \"en-au-x-aub-local\", \"language\": \"en-AU\", \"name\": \"en-au-x-aub-local\", \"quality\": \"Enhanced\"}, {\"identifier\": \"es-ES-language\", \"language\": \"es-ES\", \"name\": \"es-ES-language\", \"quality\": \"Enhanced\"}, {\"identifier\": \"ms-MY-language\", \"language\": \"ms-MY\", \"name\": \"ms-MY-language\", \"quality\": \"Enhanced\"}, {\"identifier\": \"nl-be-x-bec-network\", \"language\": \"nl-BE\", \"name\": \"nl-be-x-bec-network\", \"quality\": \"Enhanced\"}, {\"identifier\": \"ar-xa-x-ard-local\", \"language\": \"ar\", \"name\": \"ar-xa-x-ard-local\", \"quality\": \"Enhanced\"}, {\"identifier\": \"en-gb-x-gbc-local\", \"language\": \"en-GB\", \"name\": \"en-gb-x-gbc-local\", \"quality\": \"Enhanced\"}, {\"identifier\": \"he-il-x-hec-network\", \"language\": \"iw-IL\", \"name\": \"he-il-x-hec-network\", \"quality\": \"Enhanced\"}, {\"identifier\": \"yue-hk-x-jar-local\", \"language\": \"yue-HK\", \"name\": \"yue-hk-x-jar-local\", \"quality\": \"Enhanced\"}, {\"identifier\": \"su-id-x-suf-network\", \"language\": \"su-ID\", \"name\": \"su-id-x-suf-network\", \"quality\": \"Enhanced\"}, {\"identifier\": \"it-it-x-itb-local\", \"language\": \"it-IT\", \"name\": \"it-it-x-itb-local\", \"quality\": \"Enhanced\"}, {\"identifier\": \"th-TH-language\", \"language\": \"th-TH\", \"name\": \"th-TH-language\", \"quality\": \"Enhanced\"}, {\"identifier\": \"zh-CN-language\", \"language\": \"zh-CN\", \"name\": \"zh-CN-language\", \"quality\": \"Enhanced\"}, {\"identifier\": \"ru-RU-language\", \"language\": \"ru-RU\", \"name\": \"ru-RU-language\", \"quality\": \"Enhanced\"}, {\"identifier\": \"en-us-x-iob-network\", \"language\": \"en-US\", \"name\": \"en-us-x-iob-network\", \"quality\": \"Enhanced\"}, {\"identifier\": \"nb-no-x-cmj-network\", \"language\": \"nb-NO\", \"name\": \"nb-no-x-cmj-network\", \"quality\": \"Enhanced\"}, {\"identifier\": \"en-AU-language\", \"language\": \"en-AU\", \"name\": \"en-AU-language\", \"quality\": \"Enhanced\"}, {\"identifier\": \"ja-JP-language\", \"language\": \"ja-JP\", \"name\": \"ja-JP-language\", \"quality\": \"Enhanced\"}, {\"identifier\": \"id-id-x-ide-network\", \"language\": \"in-ID\", \"name\": \"id-id-x-ide-network\", \"quality\": \"Enhanced\"}, {\"identifier\": \"pa-in-x-pag-local\", \"language\": \"pa-IN\", \"name\": \"pa-in-x-pag-local\", \"quality\": \"Enhanced\"}, {\"identifier\": \"nl-nl-x-lfc-local\", \"language\": \"nl-NL\", \"name\": \"nl-nl-x-lfc-local\", \"quality\": \"Enhanced\"}, {\"identifier\": \"ml-in-x-mlf-local\", \"language\": \"ml-IN\", \"name\": \"ml-in-x-mlf-local\", \"quality\": \"Enhanced\"}, {\"identifier\": \"fr-ca-x-cac-local\", \"language\": \"fr-CA\", \"name\": \"fr-ca-x-cac-local\", \"quality\": \"Enhanced\"}, {\"identifier\": \"en-GB-language\", \"language\": \"en-GB\", \"name\": \"en-GB-language\", \"quality\": \"Enhanced\"}, {\"identifier\": \"it-it-x-kda-network\", \"language\": \"it-IT\", \"name\": \"it-it-x-kda-network\", \"quality\": \"Enhanced\"}, {\"identifier\": \"ko-kr-x-kob-network\", \"language\": \"ko-KR\", \"name\": \"ko-kr-x-kob-network\", \"quality\": \"Enhanced\"}, {\"identifier\": \"tr-tr-x-efu-local\", \"language\": \"tr-TR\", \"name\": \"tr-tr-x-efu-local\", \"quality\": \"Enhanced\"}, {\"identifier\": \"te-in-x-tem-local\", \"language\": \"te-IN\", \"name\": \"te-in-x-tem-local\", \"quality\": \"Enhanced\"}, {\"identifier\": \"nb-no-x-tfs-local\", \"language\": \"nb-NO\", \"name\": \"nb-no-x-tfs-local\", \"quality\": \"Enhanced\"}, {\"identifier\": \"jv-id-x-jvf-network\", \"language\": \"jv-ID\", \"name\": \"jv-id-x-jvf-network\", \"quality\": \"Enhanced\"}, {\"identifier\": \"et-EE-language\", \"language\": \"et-EE\", \"name\": \"et-EE-language\", \"quality\": \"Enhanced\"}, {\"identifier\": \"ko-KR-language\", \"language\": \"ko-KR\", \"name\": \"ko-KR-language\", \"quality\": \"Enhanced\"}, {\"identifier\": \"te-IN-language\", \"language\": \"te-IN\", \"name\": \"te-IN-language\", \"quality\": \"Enhanced\"}, {\"identifier\": \"bn-in-x-bnf-network\", \"language\": \"bn-IN\", \"name\": \"bn-in-x-bnf-network\", \"quality\": \"Enhanced\"}, {\"identifier\": \"de-de-x-dea-network\", \"language\": \"de-DE\", \"name\": \"de-de-x-dea-network\", \"quality\": \"Enhanced\"}, {\"identifier\": \"cmn-tw-x-ctd-network\", \"language\": \"zh-TW\", \"name\": \"cmn-tw-x-ctd-network\", \"quality\": \"Enhanced\"}, {\"identifier\": \"tr-tr-x-cfs-local\", \"language\": \"tr-TR\", \"name\": \"tr-tr-x-cfs-local\", \"quality\": \"Enhanced\"}, {\"identifier\": \"hi-in-x-hic-network\", \"language\": \"hi-IN\", \"name\": \"hi-in-x-hic-network\", \"quality\": \"Enhanced\"}, {\"identifier\": \"en-gb-x-gba-network\", \"language\": \"en-GB\", \"name\": \"en-gb-x-gba-network\", \"quality\": \"Enhanced\"}, {\"identifier\": \"pl-pl-x-oda-network\", \"language\": \"pl-PL\", \"name\": \"pl-pl-x-oda-network\", \"quality\": \"Enhanced\"}, {\"identifier\": \"en-us-x-iom-local\", \"language\": \"en-US\", \"name\": \"en-us-x-iom-local\", \"quality\": \"Enhanced\"}, {\"identifier\": \"en-au-x-auc-network\", \"language\": \"en-AU\", \"name\": \"en-au-x-auc-network\", \"quality\": \"Enhanced\"}, {\"identifier\": \"ko-kr-x-kod-network\", \"language\": \"ko-KR\", \"name\": \"ko-kr-x-kod-network\", \"quality\": \"Enhanced\"}, {\"identifier\": \"pt-pt-x-sfs-local\", \"language\": \"pt-PT\", \"name\": \"pt-pt-x-sfs-local\", \"quality\": \"Enhanced\"}, {\"identifier\": \"cmn-cn-x-ssa-local\", \"language\": \"zh-CN\", \"name\": \"cmn-cn-x-ssa-local\", \"quality\": \"Enhanced\"}, {\"identifier\": \"si-lk-x-sin-network\", \"language\": \"si-LK\", \"name\": \"si-lk-x-sin-network\", \"quality\": \"Enhanced\"}, {\"identifier\": \"fr-ca-x-caa-network\", \"language\": \"fr-CA\", \"name\": \"fr-ca-x-caa-network\", \"quality\": \"Enhanced\"}, {\"identifier\": \"vi-vn-x-gft-local\", \"language\": \"vi-VN\", \"name\": \"vi-vn-x-gft-local\", \"quality\": \"Enhanced\"}, {\"identifier\": \"tr-tr-x-ama-network\", \"language\": \"tr-TR\", \"name\": \"tr-tr-x-ama-network\", \"quality\": \"Enhanced\"}, {\"identifier\": \"da-dk-x-nmm-local\", \"language\": \"da-DK\", \"name\": \"da-dk-x-nmm-local\", \"quality\": \"Enhanced\"}, {\"identifier\": \"pl-pl-x-oda-local\", \"language\": \"pl-PL\", \"name\": \"pl-pl-x-oda-local\", \"quality\": \"Enhanced\"}, {\"identifier\": \"sv-se-x-afp-network\", \"language\": \"sv-SE\", \"name\": \"sv-se-x-afp-network\", \"quality\": \"Enhanced\"}, {\"identifier\": \"ko-kr-x-koc-local\", \"language\": \"ko-KR\", \"name\": \"ko-kr-x-koc-local\", \"quality\": \"Enhanced\"}, {\"identifier\": \"en-US-language\", \"language\": \"en-US\", \"name\": \"en-US-language\", \"quality\": \"Enhanced\"}, {\"identifier\": \"lt-lt-x-amc-network\", \"language\": \"lt-LT\", \"name\": \"lt-lt-x-amc-network\", \"quality\": \"Enhanced\"}, {\"identifier\": \"hi-in-x-hia-network\", \"language\": \"hi-IN\", \"name\": \"hi-in-x-hia-network\", \"quality\": \"Enhanced\"}, {\"identifier\": \"da-dk-x-kfm-network\", \"language\": \"da-DK\", \"name\": \"da-dk-x-kfm-network\", \"quality\": \"Enhanced\"}, {\"identifier\": \"fr-fr-x-frc-local\", \"language\": \"fr-FR\", \"name\": \"fr-fr-x-frc-local\", \"quality\": \"Enhanced\"}, {\"identifier\": \"ja-jp-x-htm-network\", \"language\": \"ja-JP\", \"name\": \"ja-jp-x-htm-network\", \"quality\": \"Enhanced\"}, {\"identifier\": \"ru-ru-x-rud-network\", \"language\": \"ru-RU\", \"name\": \"ru-ru-x-rud-network\", \"quality\": \"Enhanced\"}, {\"identifier\": \"yue-HK-language\", \"language\": \"yue-HK\", \"name\": \"yue-HK-language\", \"quality\": \"Enhanced\"}, {\"identifier\": \"en-au-x-aua-network\", \"language\": \"en-AU\", \"name\": \"en-au-x-aua-network\", \"quality\": \"Enhanced\"}, {\"identifier\": \"sv-se-x-cfg-local\", \"language\": \"sv-SE\", \"name\": \"sv-se-x-cfg-local\", \"quality\": \"Enhanced\"}, {\"identifier\": \"hi-IN-language\", \"language\": \"hi-IN\", \"name\": \"hi-IN-language\", \"quality\": \"Enhanced\"}, {\"identifier\": \"sv-se-x-cmh-network\", \"language\": \"sv-SE\", \"name\": \"sv-se-x-cmh-network\", \"quality\": \"Enhanced\"}, {\"identifier\": \"bn-in-x-bnf-local\", \"language\": \"bn-IN\", \"name\": \"bn-in-x-bnf-local\", \"quality\": \"Enhanced\"}, {\"identifier\": \"ro-ro-x-vfv-network\", \"language\": \"ro-RO\", \"name\": \"ro-ro-x-vfv-network\", \"quality\": \"Enhanced\"}, {\"identifier\": \"cmn-cn-x-ccd-network\", \"language\": \"zh-CN\", \"name\": \"cmn-cn-x-ccd-network\", \"quality\": \"Enhanced\"}, {\"identifier\": \"hu-hu-x-kfl-local\", \"language\": \"hu-HU\", \"name\": \"hu-hu-x-kfl-local\", \"quality\": \"Enhanced\"}, {\"identifier\": \"vi-VN-language\", \"language\": \"vi-VN\", \"name\": \"vi-VN-language\", \"quality\": \"Enhanced\"}, {\"identifier\": \"vi-vn-x-vif-local\", \"language\": \"vi-VN\", \"name\": \"vi-vn-x-vif-local\", \"quality\": \"Enhanced\"}, {\"identifier\": \"is-is-language\", \"language\": \"is-IS\", \"name\": \"is-is-language\", \"quality\": \"Enhanced\"}, {\"identifier\": \"pt-pt-x-pmj-local\", \"language\": \"pt-PT\", \"name\": \"pt-pt-x-pmj-local\", \"quality\": \"Enhanced\"}, {\"identifier\": \"nl-nl-x-tfb-network\", \"language\": \"nl-NL\", \"name\": \"nl-nl-x-tfb-network\", \"quality\": \"Enhanced\"}, {\"identifier\": \"en-au-x-aua-local\", \"language\": \"en-AU\", \"name\": \"en-au-x-aua-local\", \"quality\": \"Enhanced\"}, {\"identifier\": \"nb-no-x-rfj-local\", \"language\": \"nb-NO\", \"name\": \"nb-no-x-rfj-local\", \"quality\": \"Enhanced\"}, {\"identifier\": \"fr-ca-x-cac-network\", \"language\": \"fr-CA\", \"name\": \"fr-ca-x-cac-network\", \"quality\": \"Enhanced\"}, {\"identifier\": \"id-id-x-idc-network\", \"language\": \"in-ID\", \"name\": \"id-id-x-idc-network\", \"quality\": \"Enhanced\"}, {\"identifier\": \"ru-ru-x-ruf-network\", \"language\": \"ru-RU\", \"name\": \"ru-ru-x-ruf-network\", \"quality\": \"Enhanced\"}, {\"identifier\": \"pt-pt-x-sfs-network\", \"language\": \"pt-PT\", \"name\": \"pt-pt-x-sfs-network\", \"quality\": \"Enhanced\"}, {\"identifier\": \"es-es-x-eea-network\", \"language\": \"es-ES\", \"name\": \"es-es-x-eea-network\", \"quality\": \"Enhanced\"}, {\"identifier\": \"ru-ru-x-dfc-local\", \"language\": \"ru-RU\", \"name\": \"ru-ru-x-dfc-local\", \"quality\": \"Enhanced\"}, {\"identifier\": \"id-ID-language\", \"language\": \"in-ID\", \"name\": \"id-ID-language\", \"quality\": \"Enhanced\"}, {\"identifier\": \"it-it-x-itc-local\", \"language\": \"it-IT\", \"name\": \"it-it-x-itc-local\", \"quality\": \"Enhanced\"}, {\"identifier\": \"ml-in-x-mlm-network\", \"language\": \"ml-IN\", \"name\": \"ml-in-x-mlm-network\", \"quality\": \"Enhanced\"}, {\"identifier\": \"ro-RO-language\", \"language\": \"ro-RO\", \"name\": \"ro-RO-language\", \"quality\": \"Enhanced\"}, {\"identifier\": \"yue-hk-x-yud-local\", \"language\": \"yue-HK\", \"name\": \"yue-hk-x-yud-local\", \"quality\": \"Enhanced\"}, {\"identifier\": \"pl-PL-language\", \"language\": \"pl-PL\", \"name\": \"pl-PL-language\", \"quality\": \"Enhanced\"}, {\"identifier\": \"ar-xa-x-are-network\", \"language\": \"ar\", \"name\": \"ar-xa-x-are-network\", \"quality\": \"Enhanced\"}, {\"identifier\": \"id-id-x-idd-local\", \"language\": \"in-ID\", \"name\": \"id-id-x-idd-local\", \"quality\": \"Enhanced\"}, {\"identifier\": \"en-au-x-aud-local\", \"language\": \"en-AU\", \"name\": \"en-au-x-aud-local\", \"quality\": \"Enhanced\"}, {\"identifier\": \"ne-np-x-nep-local\", \"language\": \"ne-NP\", \"name\": \"ne-np-x-nep-local\", \"quality\": \"Enhanced\"}, {\"identifier\": \"cmn-tw-x-cte-local\", \"language\": \"zh-TW\", \"name\": \"cmn-tw-x-cte-local\", \"quality\": \"Enhanced\"}, {\"identifier\": \"mr-in-x-mrf-network\", \"language\": \"mr-IN\", \"name\": \"mr-in-x-mrf-network\", \"quality\": \"Enhanced\"}, {\"identifier\": \"hi-in-x-hie-network\", \"language\": \"hi-IN\", \"name\": \"hi-in-x-hie-network\", \"quality\": \"Enhanced\"}, {\"identifier\": \"ne-np-x-nep-network\", \"language\": \"ne-NP\", \"name\": \"ne-np-x-nep-network\", \"quality\": \"Enhanced\"}, {\"identifier\": \"en-us-x-iog-network\", \"language\": \"en-US\", \"name\": \"en-us-x-iog-network\", \"quality\": \"Enhanced\"}, {\"identifier\": \"sr\", \"language\": \"sr\", \"name\": \"sr\", \"quality\": \"Default\"}, {\"identifier\": \"nl-BE-language\", \"language\": \"nl-BE\", \"name\": \"nl-BE-language\", \"quality\": \"Enhanced\"}, {\"identifier\": \"km-kh-x-khm-network\", \"language\": \"km-KH\", \"name\": \"km-kh-x-khm-network\", \"quality\": \"Enhanced\"}, {\"identifier\": \"te-in-x-tef-network\", \"language\": \"te-IN\", \"name\": \"te-in-x-tef-network\", \"quality\": \"Enhanced\"}, {\"identifier\": \"bn-in-x-bin-local\", \"language\": \"bn-IN\", \"name\": \"bn-in-x-bin-local\", \"quality\": \"Enhanced\"}, {\"identifier\": \"sk-SK-language\", \"language\": \"sk-SK\", \"name\": \"sk-SK-language\", \"quality\": \"Enhanced\"}, {\"identifier\": \"uk-ua-x-hfd-network\", \"language\": \"uk-UA\", \"name\": \"uk-ua-x-hfd-network\", \"quality\": \"Enhanced\"}, {\"identifier\": \"cmn-cn-x-ccd-local\", \"language\": \"zh-CN\", \"name\": \"cmn-cn-x-ccd-local\", \"quality\": \"Enhanced\"}, {\"identifier\": \"ms-my-x-msd-local\", \"language\": \"ms-MY\", \"name\": \"ms-my-x-msd-local\", \"quality\": \"Enhanced\"}, {\"identifier\": \"vi-vn-x-vid-local\", \"language\": \"vi-VN\", \"name\": \"vi-vn-x-vid-local\", \"quality\": \"Enhanced\"}, {\"identifier\": \"nl-nl-x-tfb-local\", \"language\": \"nl-NL\", \"name\": \"nl-nl-x-tfb-local\", \"quality\": \"Enhanced\"}, {\"identifier\": \"sv-se-x-cmh-local\", \"language\": \"sv-SE\", \"name\": \"sv-se-x-cmh-local\", \"quality\": \"Enhanced\"}, {\"identifier\": \"ta-in-x-tad-local\", \"language\": \"ta-IN\", \"name\": \"ta-in-x-tad-local\", \"quality\": \"Enhanced\"}, {\"identifier\": \"pt-pt-x-pmj-network\", \"language\": \"pt-PT\", \"name\": \"pt-pt-x-pmj-network\", \"quality\": \"Enhanced\"}, {\"identifier\": \"es-us-x-esd-network\", \"language\": \"es-US\", \"name\": \"es-us-x-esd-network\", \"quality\": \"Enhanced\"}, {\"identifier\": \"ru-ru-x-dfc-network\", \"language\": \"ru-RU\", \"name\": \"ru-ru-x-dfc-network\", \"quality\": \"Enhanced\"}, {\"identifier\": \"fr-ca-x-cad-network\", \"language\": \"fr-CA\", \"name\": \"fr-ca-x-cad-network\", \"quality\": \"Enhanced\"}, {\"identifier\": \"nl-nl-x-bmh-network\", \"language\": \"nl-NL\", \"name\": \"nl-nl-x-bmh-network\", \"quality\": \"Enhanced\"}, {\"identifier\": \"hr-hr-x-hrb-local\", \"language\": \"hr-HR\", \"name\": \"hr-hr-x-hrb-local\", \"quality\": \"Enhanced\"}, {\"identifier\": \"sq-al-x-sqm-local\", \"language\": \"sq-AL\", \"name\": \"sq-al-x-sqm-local\", \"quality\": \"Default\"}, {\"identifier\": \"hi-in-x-hic-local\", \"language\": \"hi-IN\", \"name\": \"hi-in-x-hic-local\", \"quality\": \"Enhanced\"}, {\"identifier\": \"nb-no-x-tfs-network\", \"language\": \"nb-NO\", \"name\": \"nb-no-x-tfs-network\", \"quality\": \"Enhanced\"}, {\"identifier\": \"en-IN-language\", \"language\": \"en-IN\", \"name\": \"en-IN-language\", \"quality\": \"Enhanced\"}, {\"identifier\": \"de-de-x-nfh-local\", \"language\": \"de-DE\", \"name\": \"de-de-x-nfh-local\", \"quality\": \"Enhanced\"}, {\"identifier\": \"kn-IN-language\", \"language\": \"kn-IN\", \"name\": \"kn-IN-language\", \"quality\": \"Enhanced\"}, {\"identifier\": \"en-gb-x-rjs-network\", \"language\": \"en-GB\", \"name\": \"en-gb-x-rjs-network\", \"quality\": \"Enhanced\"}, {\"identifier\": \"es-es-x-eea-local\", \"language\": \"es-ES\", \"name\": \"es-es-x-eea-local\", \"quality\": \"Enhanced\"}, {\"identifier\": \"bn-in-x-bnm-local\", \"language\": \"bn-IN\", \"name\": \"bn-in-x-bnm-local\", \"quality\": \"Enhanced\"}, {\"identifier\": \"ur-pk-x-cfn-network\", \"language\": \"ur-PK\", \"name\": \"ur-pk-x-cfn-network\", \"quality\": \"Enhanced\"}, {\"identifier\": \"es-es-x-eec-network\", \"language\": \"es-ES\", \"name\": \"es-es-x-eec-network\", \"quality\": \"Enhanced\"}, {\"identifier\": \"pt-pt-x-jmn-local\", \"language\": \"pt-PT\", \"name\": \"pt-pt-x-jmn-local\", \"quality\": \"Enhanced\"}, {\"identifier\": \"tr-tr-x-cfs-network\", \"language\": \"tr-TR\", \"name\": \"tr-tr-x-cfs-network\", \"quality\": \"Enhanced\"}, {\"identifier\": \"gu-in-x-gum-local\", \"language\": \"gu-IN\", \"name\": \"gu-in-x-gum-local\", \"quality\": \"Enhanced\"}, {\"identifier\": \"es-us-x-esc-network\", \"language\": \"es-US\", \"name\": \"es-us-x-esc-network\", \"quality\": \"Enhanced\"}, {\"identifier\": \"nl-be-x-bed-local\", \"language\": \"nl-BE\", \"name\": \"nl-be-x-bed-local\", \"quality\": \"Enhanced\"}, {\"identifier\": \"lt-lt-x-amc-local\", \"language\": \"lt-LT\", \"name\": \"lt-lt-x-amc-local\", \"quality\": \"Enhanced\"}, {\"identifier\": \"km-kh-x-khm-local\", \"language\": \"km-KH\", \"name\": \"km-kh-x-khm-local\", \"quality\": \"Enhanced\"}, {\"identifier\": \"nl-nl-x-bmh-local\", \"language\": \"nl-NL\", \"name\": \"nl-nl-x-bmh-local\", \"quality\": \"Enhanced\"}, {\"identifier\": \"ar-xa-x-arz-network\", \"language\": \"ar\", \"name\": \"ar-xa-x-arz-network\", \"quality\": \"Enhanced\"}, {\"identifier\": \"ar-xa-x-arc-network\", \"language\": \"ar\", \"name\": \"ar-xa-x-arc-network\", \"quality\": \"Enhanced\"}, {\"identifier\": \"pl-pl-x-bmg-local\", \"language\": \"pl-PL\", \"name\": \"pl-pl-x-bmg-local\", \"quality\": \"Enhanced\"}, {\"identifier\": \"ko-kr-x-ism-network\", \"language\": \"ko-KR\", \"name\": \"ko-kr-x-ism-network\", \"quality\": \"Enhanced\"}, {\"identifier\": \"cs-CZ-language\", \"language\": \"cs-CZ\", \"name\": \"cs-CZ-language\", \"quality\": \"Enhanced\"}, {\"identifier\": \"pa-in-x-pad-local\", \"language\": \"pa-IN\", \"name\": \"pa-in-x-pad-local\", \"quality\": \"Enhanced\"}, {\"identifier\": \"jv-ID-language\", \"language\": \"jv-ID\", \"name\": \"jv-ID-language\", \"quality\": \"Enhanced\"}, {\"identifier\": \"de-de-x-dea-local\", \"language\": \"de-DE\", \"name\": \"de-de-x-dea-local\", \"quality\": \"Enhanced\"}, {\"identifier\": \"nl-NL-language\", \"language\": \"nl-NL\", \"name\": \"nl-NL-language\", \"quality\": \"Enhanced\"}, {\"identifier\": \"nb-no-x-tmg-network\", \"language\": \"nb-NO\", \"name\": \"nb-no-x-tmg-network\", \"quality\": \"Enhanced\"}, {\"identifier\": \"en-us-x-tpc-local\", \"language\": \"en-US\", \"name\": \"en-us-x-tpc-local\", \"quality\": \"Enhanced\"}, {\"identifier\": \"ro-ro-x-vfv-local\", \"language\": \"ro-RO\", \"name\": \"ro-ro-x-vfv-local\", \"quality\": \"Enhanced\"}, {\"identifier\": \"ja-jp-x-jac-local\", \"language\": \"ja-JP\", \"name\": \"ja-jp-x-jac-local\", \"quality\": \"Enhanced\"}, {\"identifier\": \"es-es-x-eed-network\", \"language\": \"es-ES\", \"name\": \"es-es-x-eed-network\", \"quality\": \"Enhanced\"}, {\"identifier\": \"sw-ke-language\", \"language\": \"sw-KE\", \"name\": \"sw-ke-language\", \"quality\": \"Enhanced\"}, {\"identifier\": \"ur-pk-x-urm-network\", \"language\": \"ur-PK\", \"name\": \"ur-pk-x-urm-network\", \"quality\": \"Enhanced\"}, {\"identifier\": \"ja-jp-x-htm-local\", \"language\": \"ja-JP\", \"name\": \"ja-jp-x-htm-local\", \"quality\": \"Enhanced\"}, {\"identifier\": \"cmn-tw-x-cte-network\", \"language\": \"zh-TW\", \"name\": \"cmn-tw-x-cte-network\", \"quality\": \"Enhanced\"}, {\"identifier\": \"nl-nl-x-dma-local\", \"language\": \"nl-NL\", \"name\": \"nl-nl-x-dma-local\", \"quality\": \"Enhanced\"}, {\"identifier\": \"es-us-x-sfb-local\", \"language\": \"es-US\", \"name\": \"es-us-x-sfb-local\", \"quality\": \"Enhanced\"}, {\"identifier\": \"en-gb-x-gba-local\", \"language\": \"en-GB\", \"name\": \"en-gb-x-gba-local\", \"quality\": \"Enhanced\"}, {\"identifier\": \"nl-nl-x-yfr-network\", \"language\": \"nl-NL\", \"name\": \"nl-nl-x-yfr-network\", \"quality\": \"Enhanced\"}, {\"identifier\": \"it-it-x-itd-local\", \"language\": \"it-IT\", \"name\": \"it-it-x-itd-local\", \"quality\": \"Enhanced\"}, {\"identifier\": \"vi-vn-x-vif-network\", \"language\": \"vi-VN\", \"name\": \"vi-vn-x-vif-network\", \"quality\": \"Enhanced\"}, {\"identifier\": \"en-us-x-tpf-local\", \"language\": \"en-US\", \"name\": \"en-us-x-tpf-local\", \"quality\": \"Enhanced\"}, {\"identifier\": \"de-de-x-deb-network\", \"language\": \"de-DE\", \"name\": \"de-de-x-deb-network\", \"quality\": \"Enhanced\"}, {\"identifier\": \"yue-hk-x-yuf-network\", \"language\": \"yue-HK\", \"name\": \"yue-hk-x-yuf-network\", \"quality\": \"Enhanced\"}, {\"identifier\": \"nl-nl-x-yfr-local\", \"language\": \"nl-NL\", \"name\": \"nl-nl-x-yfr-local\", \"quality\": \"Enhanced\"}, {\"identifier\": \"pl-pl-x-afb-local\", \"language\": \"pl-PL\", \"name\": \"pl-pl-x-afb-local\", \"quality\": \"Enhanced\"}, {\"identifier\": \"en-au-x-aub-network\", \"language\": \"en-AU\", \"name\": \"en-au-x-aub-network\", \"quality\": \"Enhanced\"}, {\"identifier\": \"fr-ca-x-cab-local\", \"language\": \"fr-CA\", \"name\": \"fr-ca-x-cab-local\", \"quality\": \"Enhanced\"}, {\"identifier\": \"da-dk-x-sfp-network\", \"language\": \"da-DK\", \"name\": \"da-dk-x-sfp-network\", \"quality\": \"Enhanced\"}, {\"identifier\": \"te-in-x-tem-network\", \"language\": \"te-IN\", \"name\": \"te-in-x-tem-network\", \"quality\": \"Enhanced\"}, {\"identifier\": \"en-au-x-auc-local\", \"language\": \"en-AU\", \"name\": \"en-au-x-auc-local\", \"quality\": \"Enhanced\"}, {\"identifier\": \"hr-HR-language\", \"language\": \"hr-HR\", \"name\": \"hr-HR-language\", \"quality\": \"Enhanced\"}, {\"identifier\": \"zh-TW-language\", \"language\": \"zh-TW\", \"name\": \"zh-TW-language\", \"quality\": \"Enhanced\"}, {\"identifier\": \"cmn-cn-x-cce-network\", \"language\": \"zh-CN\", \"name\": \"cmn-cn-x-cce-network\", \"quality\": \"Enhanced\"}, {\"identifier\": \"ko-kr-x-koc-network\", \"language\": \"ko-KR\", \"name\": \"ko-kr-x-koc-network\", \"quality\": \"Enhanced\"}, {\"identifier\": \"ml-IN-language\", \"language\": \"ml-IN\", \"name\": \"ml-IN-language\", \"quality\": \"Enhanced\"}, {\"identifier\": \"en-us-x-sfg-network\", \"language\": \"en-US\", \"name\": \"en-us-x-sfg-network\", \"quality\": \"Enhanced\"}, {\"identifier\": \"hi-in-x-hid-network\", \"language\": \"hi-IN\", \"name\": \"hi-in-x-hid-network\", \"quality\": \"Enhanced\"}, {\"identifier\": \"cmn-cn-x-ccc-local\", \"language\": \"zh-CN\", \"name\": \"cmn-cn-x-ccc-local\", \"quality\": \"Enhanced\"}, {\"identifier\": \"cmn-tw-x-ctc-local\", \"language\": \"zh-TW\", \"name\": \"cmn-tw-x-ctc-local\", \"quality\": \"Enhanced\"}, {\"identifier\": \"en-gb-x-rjs-local\", \"language\": \"en-GB\", \"name\": \"en-gb-x-rjs-local\", \"quality\": \"Enhanced\"}, {\"identifier\": \"et-ee-x-tms-network\", \"language\": \"et-EE\", \"name\": \"et-ee-x-tms-network\", \"quality\": \"Enhanced\"}, {\"identifier\": \"vi-vn-x-vie-local\", \"language\": \"vi-VN\", \"name\": \"vi-vn-x-vie-local\", \"quality\": \"Enhanced\"}, {\"identifier\": \"it-IT-language\", \"language\": \"it-IT\", \"name\": \"it-IT-language\", \"quality\": \"Enhanced\"}, {\"identifier\": \"jv-id-x-jvf-local\", \"language\": \"jv-ID\", \"name\": \"jv-id-x-jvf-local\", \"quality\": \"Enhanced\"}, {\"identifier\": \"ar-xa-x-ard-network\", \"language\": \"ar\", \"name\": \"ar-xa-x-ard-network\", \"quality\": \"Enhanced\"}, {\"identifier\": \"bn-in-x-bin-network\", \"language\": \"bn-IN\", \"name\": \"bn-in-x-bin-network\", \"quality\": \"Enhanced\"}, {\"identifier\": \"en-gb-x-gbg-local\", \"language\": \"en-GB\", \"name\": \"en-gb-x-gbg-local\", \"quality\": \"Enhanced\"}, {\"identifier\": \"bn-IN-language\", \"language\": \"bn-IN\", \"name\": \"bn-IN-language\", \"quality\": \"Enhanced\"}, {\"identifier\": \"es-us-x-esc-local\", \"language\": \"es-US\", \"name\": \"es-us-x-esc-local\", \"quality\": \"Enhanced\"}, {\"identifier\": \"fr-ca-x-cab-network\", \"language\": \"fr-CA\", \"name\": \"fr-ca-x-cab-network\", \"quality\": \"Enhanced\"}, {\"identifier\": \"fr-FR-language\", \"language\": \"fr-FR\", \"name\": \"fr-FR-language\", \"quality\": \"Enhanced\"}, {\"identifier\": \"da-DK-language\", \"language\": \"da-DK\", \"name\": \"da-DK-language\", \"quality\": \"Enhanced\"}, {\"identifier\": \"fil-ph-x-fid-network\", \"language\": \"fil-PH\", \"name\": \"fil-ph-x-fid-network\", \"quality\": \"Enhanced\"}, {\"identifier\": \"bn-in-x-bnx-network\", \"language\": \"bn-IN\", \"name\": \"bn-in-x-bnx-network\", \"quality\": \"Enhanced\"}, {\"identifier\": \"en-us-x-iob-local\", \"language\": \"en-US\", \"name\": \"en-us-x-iob-local\", \"quality\": \"Enhanced\"}, {\"identifier\": \"bg-bg-x-ifk-local\", \"language\": \"bg-BG\", \"name\": \"bg-bg-x-ifk-local\", \"quality\": \"Enhanced\"}, {\"identifier\": \"th-th-x-mol-local\", \"language\": \"th-TH\", \"name\": \"th-th-x-mol-local\", \"quality\": \"Enhanced\"}, {\"identifier\": \"es-us-x-esf-local\", \"language\": \"es-US\", \"name\": \"es-us-x-esf-local\", \"quality\": \"Enhanced\"}, {\"identifier\": \"pa-in-x-pac-local\", \"language\": \"pa-IN\", \"name\": \"pa-in-x-pac-local\", \"quality\": \"Enhanced\"}, {\"identifier\": \"ar-xa-x-are-local\", \"language\": \"ar\", \"name\": \"ar-xa-x-are-local\", \"quality\": \"Enhanced\"}, {\"identifier\": \"hu-hu-x-kfl-network\", \"language\": \"hu-HU\", \"name\": \"hu-hu-x-kfl-network\", \"quality\": \"Enhanced\"}, {\"identifier\": \"nl-nl-x-lfc-network\", \"language\": \"nl-NL\", \"name\": \"nl-nl-x-lfc-network\", \"quality\": \"Enhanced\"}, {\"identifier\": \"en-gb-x-gbd-local\", \"language\": \"en-GB\", \"name\": \"en-gb-x-gbd-local\", \"quality\": \"Enhanced\"}, {\"identifier\": \"en-in-x-ahp-network\", \"language\": \"en-IN\", \"name\": \"en-in-x-ahp-network\", \"quality\": \"Enhanced\"}, {\"identifier\": \"he-il-x-hee-network\", \"language\": \"iw-IL\", \"name\": \"he-il-x-hee-network\", \"quality\": \"Enhanced\"}, {\"identifier\": \"en-gb-x-gbd-network\", \"language\": \"en-GB\", \"name\": \"en-gb-x-gbd-network\", \"quality\": \"Enhanced\"}, {\"identifier\": \"et-ee-x-tms-local\", \"language\": \"et-EE\", \"name\": \"et-ee-x-tms-local\", \"quality\": \"Enhanced\"}, {\"identifier\": \"kn-in-x-knf-local\", \"language\": \"kn-IN\", \"name\": \"kn-in-x-knf-local\", \"quality\": \"Enhanced\"}, {\"identifier\": \"es-es-x-eef-local\", \"language\": \"es-ES\", \"name\": \"es-es-x-eef-local\", \"quality\": \"Enhanced\"}, {\"identifier\": \"es-es-x-eec-local\", \"language\": \"es-ES\", \"name\": \"es-es-x-eec-local\", \"quality\": \"Enhanced\"}, {\"identifier\": \"te-in-x-tef-local\", \"language\": \"te-IN\", \"name\": \"te-in-x-tef-local\", \"quality\": \"Enhanced\"}, {\"identifier\": \"ml-in-x-mlm-local\", \"language\": \"ml-IN\", \"name\": \"ml-in-x-mlm-local\", \"quality\": \"Enhanced\"}, {\"identifier\": \"sw-ke-x-swm-local\", \"language\": \"sw-KE\", \"name\": \"sw-ke-x-swm-local\", \"quality\": \"Default\"}, {\"identifier\": \"gu-in-x-gum-network\", \"language\": \"gu-IN\", \"name\": \"gu-in-x-gum-network\", \"quality\": \"Enhanced\"}, {\"identifier\": \"ms-my-x-msg-network\", \"language\": \"ms-MY\", \"name\": \"ms-my-x-msg-network\", \"quality\": \"Enhanced\"}, {\"identifier\": \"bn-in-x-bnm-network\", \"language\": \"bn-IN\", \"name\": \"bn-in-x-bnm-network\", \"quality\": \"Enhanced\"}, {\"identifier\": \"en-us-x-tpd-network\", \"language\": \"en-US\", \"name\": \"en-us-x-tpd-network\", \"quality\": \"Enhanced\"}, {\"identifier\": \"nb-no-x-cfl-local\", \"language\": \"nb-NO\", \"name\": \"nb-no-x-cfl-local\", \"quality\": \"Enhanced\"}, {\"identifier\": \"id-id-x-ide-local\", \"language\": \"in-ID\", \"name\": \"id-id-x-ide-local\", \"quality\": \"Enhanced\"}, {\"identifier\": \"ko-kr-x-kod-local\", \"language\": \"ko-KR\", \"name\": \"ko-kr-x-kod-local\", \"quality\": \"Enhanced\"}, {\"identifier\": \"ta-IN-language\", \"language\": \"ta-IN\", \"name\": \"ta-IN-language\", \"quality\": \"Enhanced\"}, {\"identifier\": \"en-us-x-tpc-network\", \"language\": \"en-US\", \"name\": \"en-us-x-tpc-network\", \"quality\": \"Enhanced\"}, {\"identifier\": \"vi-vn-x-gft-network\", \"language\": \"vi-VN\", \"name\": \"vi-vn-x-gft-network\", \"quality\": \"Enhanced\"}, {\"identifier\": \"pl-pl-x-afb-network\", \"language\": \"pl-PL\", \"name\": \"pl-pl-x-afb-network\", \"quality\": \"Enhanced\"}, {\"identifier\": \"pt-PT-language\", \"language\": \"pt-PT\", \"name\": \"pt-PT-language\", \"quality\": \"Enhanced\"}, {\"identifier\": \"en-in-x-end-local\", \"language\": \"en-IN\", \"name\": \"en-in-x-end-local\", \"quality\": \"Enhanced\"}, {\"identifier\": \"gu-in-x-guf-network\", \"language\": \"gu-IN\", \"name\": \"gu-in-x-guf-network\", \"quality\": \"Enhanced\"}, {\"identifier\": \"ko-kr-x-ism-local\", \"language\": \"ko-KR\", \"name\": \"ko-kr-x-ism-local\", \"quality\": \"Enhanced\"}, {\"identifier\": \"nl-be-x-bed-network\", \"language\": \"nl-BE\", \"name\": \"nl-be-x-bed-network\", \"quality\": \"Enhanced\"}, {\"identifier\": \"ms-my-x-msg-local\", \"language\": \"ms-MY\", \"name\": \"ms-my-x-msg-local\", \"quality\": \"Enhanced\"}, {\"identifier\": \"bg-bg-x-ifk-network\", \"language\": \"bg-BG\", \"name\": \"bg-bg-x-ifk-network\", \"quality\": \"Enhanced\"}, {\"identifier\": \"gu-in-x-guf-local\", \"language\": \"gu-IN\", \"name\": \"gu-in-x-guf-local\", \"quality\": \"Enhanced\"}, {\"identifier\": \"pl-pl-x-jmk-local\", \"language\": \"pl-PL\", \"name\": \"pl-pl-x-jmk-local\", \"quality\": \"Enhanced\"}, {\"identifier\": \"fil-ph-x-fid-local\", \"language\": \"fil-PH\", \"name\": \"fil-ph-x-fid-local\", \"quality\": \"Enhanced\"}, {\"identifier\": \"fil-ph-x-fie-network\", \"language\": \"fil-PH\", \"name\": \"fil-ph-x-fie-network\", \"quality\": \"Enhanced\"}, {\"identifier\": \"yue-hk-x-yue-local\", \"language\": \"yue-HK\", \"name\": \"yue-hk-x-yue-local\", \"quality\": \"Enhanced\"}, {\"identifier\": \"nb-no-x-cfl-network\", \"language\": \"nb-NO\", \"name\": \"nb-no-x-cfl-network\", \"quality\": \"Enhanced\"}, {\"identifier\": \"id-id-x-idd-network\", \"language\": \"in-ID\", \"name\": \"id-id-x-idd-network\", \"quality\": \"Enhanced\"}, {\"identifier\": \"su-ID-language\", \"language\": \"su-ID\", \"name\": \"su-ID-language\", \"quality\": \"Enhanced\"}, {\"identifier\": \"he-il-x-heb-network\", \"language\": \"iw-IL\", \"name\": \"he-il-x-heb-network\", \"quality\": \"Enhanced\"}, {\"identifier\": \"en-us-x-iol-network\", \"language\": \"en-US\", \"name\": \"en-us-x-iol-network\", \"quality\": \"Enhanced\"}, {\"identifier\": \"ar-xa-x-arz-local\", \"language\": \"ar\", \"name\": \"ar-xa-x-arz-local\", \"quality\": \"Enhanced\"}, {\"identifier\": \"pl-pl-x-zfg-local\", \"language\": \"pl-PL\", \"name\": \"pl-pl-x-zfg-local\", \"quality\": \"Enhanced\"}, {\"identifier\": \"ru-ru-x-ruc-network\", \"language\": \"ru-RU\", \"name\": \"ru-ru-x-ruc-network\", \"quality\": \"Enhanced\"}, {\"identifier\": \"pt-BR-language\", \"language\": \"pt-BR\", \"name\": \"pt-BR-language\", \"quality\": \"Enhanced\"}, {\"identifier\": \"ru-ru-x-rue-local\", \"language\": \"ru-RU\", \"name\": \"ru-ru-x-rue-local\", \"quality\": \"Enhanced\"}, {\"identifier\": \"th-th-x-mol-network\", \"language\": \"th-TH\", \"name\": \"th-th-x-mol-network\", \"quality\": \"Enhanced\"}, {\"identifier\": \"he-il-x-hee-local\", \"language\": \"iw-IL\", \"name\": \"he-il-x-hee-local\", \"quality\": \"Enhanced\"}, {\"identifier\": \"pa-IN-language\", \"language\": \"pa-IN\", \"name\": \"pa-IN-language\", \"quality\": \"Enhanced\"}, {\"identifier\": \"en-us-x-iom-network\", \"language\": \"en-US\", \"name\": \"en-us-x-iom-network\", \"quality\": \"Enhanced\"}, {\"identifier\": \"lv-LV-language\", \"language\": \"lv-LV\", \"name\": \"lv-LV-language\", \"quality\": \"Enhanced\"}, {\"identifier\": \"tr-tr-x-tmc-network\", \"language\": \"tr-TR\", \"name\": \"tr-tr-x-tmc-network\", \"quality\": \"Enhanced\"}, {\"identifier\": \"pt-pt-x-jfb-network\", \"language\": \"pt-PT\", \"name\": \"pt-pt-x-jfb-network\", \"quality\": \"Enhanced\"}, {\"identifier\": \"hi-in-x-hia-local\", \"language\": \"hi-IN\", \"name\": \"hi-in-x-hia-local\", \"quality\": \"Enhanced\"}, {\"identifier\": \"fr-fr-x-fra-local\", \"language\": \"fr-FR\", \"name\": \"fr-fr-x-fra-local\", \"quality\": \"Enhanced\"}, {\"identifier\": \"mr-IN-language\", \"language\": \"mr-IN\", \"name\": \"mr-IN-language\", \"quality\": \"Enhanced\"}, {\"identifier\": \"pt-br-x-afs-local\", \"language\": \"pt-BR\", \"name\": \"pt-br-x-afs-local\", \"quality\": \"Enhanced\"}, {\"identifier\": \"en-NG-language\", \"language\": \"en-NG\", \"name\": \"en-NG-language\", \"quality\": \"Enhanced\"}, {\"identifier\": \"en-in-x-enc-local\", \"language\": \"en-IN\", \"name\": \"en-in-x-enc-local\", \"quality\": \"Enhanced\"}, {\"identifier\": \"cy\", \"language\": \"cy\", \"name\": \"cy\", \"quality\": \"Default\"}, {\"identifier\": \"ja-jp-x-jab-network\", \"language\": \"ja-JP\", \"name\": \"ja-jp-x-jab-network\", \"quality\": \"Enhanced\"}, {\"identifier\": \"vi-vn-x-vie-network\", \"language\": \"vi-VN\", \"name\": \"vi-vn-x-vie-network\", \"quality\": \"Enhanced\"}, {\"identifier\": \"da-dk-x-nmm-network\", \"language\": \"da-DK\", \"name\": \"da-dk-x-nmm-network\", \"quality\": \"Enhanced\"}, {\"identifier\": \"hi-in-x-hid-local\", \"language\": \"hi-IN\", \"name\": \"hi-in-x-hid-local\", \"quality\": \"Enhanced\"}, {\"identifier\": \"es-es-x-eee-local\", \"language\": \"es-ES\", \"name\": \"es-es-x-eee-local\", \"quality\": \"Enhanced\"}, {\"identifier\": \"sq-al-x-sqm-network\", \"language\": \"sq-AL\", \"name\": \"sq-al-x-sqm-network\", \"quality\": \"Default\"}, {\"identifier\": \"it-it-x-kda-local\", \"language\": \"it-IT\", \"name\": \"it-it-x-kda-local\", \"quality\": \"Enhanced\"}, {\"identifier\": \"en-in-x-enc-network\", \"language\": \"en-IN\", \"name\": \"en-in-x-enc-network\", \"quality\": \"Enhanced\"}, {\"identifier\": \"fil-ph-x-fic-local\", \"language\": \"fil-PH\", \"name\": \"fil-ph-x-fic-local\", \"quality\": \"Enhanced\"}, {\"identifier\": \"en-in-x-ene-network\", \"language\": \"en-IN\", \"name\": \"en-in-x-ene-network\", \"quality\": \"Enhanced\"}, {\"identifier\": \"pa-in-x-pag-network\", \"language\": \"pa-IN\", \"name\": \"pa-in-x-pag-network\", \"quality\": \"Enhanced\"}, {\"identifier\": \"hr-hr-x-hra-network\", \"language\": \"hr-HR\", \"name\": \"hr-hr-x-hra-network\", \"quality\": \"Enhanced\"}, {\"identifier\": \"lt-lt-language\", \"language\": \"lt-LT\", \"name\": \"lt-lt-language\", \"quality\": \"Enhanced\"}, {\"identifier\": \"en-ng-x-tfn-network\", \"language\": \"en-NG\", \"name\": \"en-ng-x-tfn-network\", \"quality\": \"Enhanced\"}, {\"identifier\": \"da-dk-x-vfb-network\", \"language\": \"da-DK\", \"name\": \"da-dk-x-vfb-network\", \"quality\": \"Enhanced\"}, {\"identifier\": \"tr-TR-language\", \"language\": \"tr-TR\", \"name\": \"tr-TR-language\", \"quality\": \"Enhanced\"}, {\"identifier\": \"sw-ke-x-swm-network\", \"language\": \"sw-KE\", \"name\": \"sw-ke-x-swm-network\", \"quality\": \"Default\"}, {\"identifier\": \"es-us-x-esd-local\", \"language\": \"es-US\", \"name\": \"es-us-x-esd-local\", \"quality\": \"Enhanced\"}, {\"identifier\": \"sq-al-language\", \"language\": \"sq-AL\", \"name\": \"sq-al-language\", \"quality\": \"Enhanced\"}, {\"identifier\": \"su-id-x-suf-local\", \"language\": \"su-ID\", \"name\": \"su-id-x-suf-local\", \"quality\": \"Enhanced\"}, {\"identifier\": \"es-us-x-sfb-network\", \"language\": \"es-US\", \"name\": \"es-us-x-sfb-network\", \"quality\": \"Enhanced\"}, {\"identifier\": \"en-gb-x-gbc-network\", \"language\": \"en-GB\", \"name\": \"en-gb-x-gbc-network\", \"quality\": \"Enhanced\"}, {\"identifier\": \"ur-pk-x-urm-local\", \"language\": \"ur-PK\", \"name\": \"ur-pk-x-urm-local\", \"quality\": \"Enhanced\"}, {\"identifier\": \"pa-in-x-pae-local\", \"language\": \"pa-IN\", \"name\": \"pa-in-x-pae-local\", \"quality\": \"Enhanced\"}, {\"identifier\": \"he-il-x-hed-network\", \"language\": \"iw-IL\", \"name\": \"he-il-x-hed-network\", \"quality\": \"Enhanced\"}, {\"identifier\": \"ja-jp-x-jad-network\", \"language\": \"ja-JP\", \"name\": \"ja-jp-x-jad-network\", \"quality\": \"Enhanced\"}, {\"identifier\": \"ru-ru-x-ruf-local\", \"language\": \"ru-RU\", \"name\": \"ru-ru-x-ruf-local\", \"quality\": \"Enhanced\"}, {\"identifier\": \"en-ng-x-tfn-local\", \"language\": \"en-NG\", \"name\": \"en-ng-x-tfn-local\", \"quality\": \"Enhanced\"}, {\"identifier\": \"he-il-x-hed-local\", \"language\": \"iw-IL\", \"name\": \"he-il-x-hed-local\", \"quality\": \"Enhanced\"}, {\"identifier\": \"pt-br-x-ptd-local\", \"language\": \"pt-BR\", \"name\": \"pt-br-x-ptd-local\", \"quality\": \"Enhanced\"}, {\"identifier\": \"ja-jp-x-jab-local\", \"language\": \"ja-JP\", \"name\": \"ja-jp-x-jab-local\", \"quality\": \"Enhanced\"}, {\"identifier\": \"da-dk-x-kfm-local\", \"language\": \"da-DK\", \"name\": \"da-dk-x-kfm-local\", \"quality\": \"Enhanced\"}, {\"identifier\": \"en-us-x-tpd-local\", \"language\": \"en-US\", \"name\": \"en-us-x-tpd-local\", \"quality\": \"Enhanced\"}, {\"identifier\": \"nb-NO-language\", \"language\": \"nb-NO\", \"name\": \"nb-NO-language\", \"quality\": \"Enhanced\"}, {\"identifier\": \"fr-ca-x-caa-local\", \"language\": \"fr-CA\", \"name\": \"fr-ca-x-caa-local\", \"quality\": \"Enhanced\"}, {\"identifier\": \"ur-pk-x-cfn-local\", \"language\": \"ur-PK\", \"name\": \"ur-pk-x-cfn-local\", \"quality\": \"Enhanced\"}, {\"identifier\": \"fr-ca-x-cad-local\", \"language\": \"fr-CA\", \"name\": \"fr-ca-x-cad-local\", \"quality\": \"Enhanced\"}, {\"identifier\": \"yue-hk-x-yuc-network\", \"language\": \"yue-HK\", \"name\": \"yue-hk-x-yuc-network\", \"quality\": \"Enhanced\"}, {\"identifier\": \"ru-ru-x-ruc-local\", \"language\": \"ru-RU\", \"name\": \"ru-ru-x-ruc-local\", \"quality\": \"Enhanced\"}, {\"identifier\": \"fil-ph-x-fic-network\", \"language\": \"fil-PH\", \"name\": \"fil-ph-x-fic-network\", \"quality\": \"Enhanced\"}, {\"identifier\": \"fil-ph-x-cfc-network\", \"language\": \"fil-PH\", \"name\": \"fil-ph-x-cfc-network\", \"quality\": \"Enhanced\"}, {\"identifier\": \"cs-cz-x-jfs-network\", \"language\": \"cs-CZ\", \"name\": \"cs-cz-x-jfs-network\", \"quality\": \"Enhanced\"}, {\"identifier\": \"de-de-x-deg-network\", \"language\": \"de-DE\", \"name\": \"de-de-x-deg-network\", \"quality\": \"Enhanced\"}, {\"identifier\": \"pa-in-x-pac-network\", \"language\": \"pa-IN\", \"name\": \"pa-in-x-pac-network\", \"quality\": \"Enhanced\"}, {\"identifier\": \"en-in-x-ena-network\", \"language\": \"en-IN\", \"name\": \"en-in-x-ena-network\", \"quality\": \"Enhanced\"}, {\"identifier\": \"uk-ua-x-hfd-local\", \"language\": \"uk-UA\", \"name\": \"uk-ua-x-hfd-local\", \"quality\": \"Enhanced\"}, {\"identifier\": \"nl-be-x-bec-local\", \"language\": \"nl-BE\", \"name\": \"nl-be-x-bec-local\", \"quality\": \"Enhanced\"}, {\"identifier\": \"ms-my-x-mse-network\", \"language\": \"ms-MY\", \"name\": \"ms-my-x-mse-network\", \"quality\": \"Enhanced\"}, {\"identifier\": \"vi-vn-x-vic-network\", \"language\": \"vi-VN\", \"name\": \"vi-vn-x-vic-network\", \"quality\": \"Enhanced\"}, {\"identifier\": \"vi-vn-x-vic-local\", \"language\": \"vi-VN\", \"name\": \"vi-vn-x-vic-local\", \"quality\": \"Enhanced\"}, {\"identifier\": \"fil-ph-x-cfc-local\", \"language\": \"fil-PH\", \"name\": \"fil-ph-x-cfc-local\", \"quality\": \"Enhanced\"}, {\"identifier\": \"ne-NP-language\", \"language\": \"ne-NP\", \"name\": \"ne-NP-language\", \"quality\": \"Enhanced\"}, {\"identifier\": \"de-de-x-deb-local\", \"language\": \"de-DE\", \"name\": \"de-de-x-deb-local\", \"quality\": \"Enhanced\"}, {\"identifier\": \"si-LK-language\", \"language\": \"si-LK\", \"name\": \"si-LK-language\", \"quality\": \"Enhanced\"}, {\"identifier\": \"sk-sk-x-sfk-network\", \"language\": \"sk-SK\", \"name\": \"sk-sk-x-sfk-network\", \"quality\": \"Enhanced\"}, {\"identifier\": \"pt-br-x-pte-network\", \"language\": \"pt-BR\", \"name\": \"pt-br-x-pte-network\", \"quality\": \"Enhanced\"}, {\"identifier\": \"sv-se-x-cfg-network\", \"language\": \"sv-SE\", \"name\": \"sv-se-x-cfg-network\", \"quality\": \"Enhanced\"}, {\"identifier\": \"bs-ba-x-bsm-network\", \"language\": \"bs-BA\", \"name\": \"bs-ba-x-bsm-network\", \"quality\": \"Default\"}, {\"identifier\": \"fi-fi-x-afi-network\", \"language\": \"fi-FI\", \"name\": \"fi-fi-x-afi-network\", \"quality\": \"Enhanced\"}, {\"identifier\": \"yue-hk-x-yuc-local\", \"language\": \"yue-HK\", \"name\": \"yue-hk-x-yuc-local\", \"quality\": \"Enhanced\"}, {\"identifier\": \"lv-lv-x-imr-local\", \"language\": \"lv-LV\", \"name\": \"lv-lv-x-imr-local\", \"quality\": \"Enhanced\"}, {\"identifier\": \"it-it-x-itc-network\", \"language\": \"it-IT\", \"name\": \"it-it-x-itc-network\", \"quality\": \"Enhanced\"}, {\"identifier\": \"he-il-x-heb-local\", \"language\": \"iw-IL\", \"name\": \"he-il-x-heb-local\", \"quality\": \"Enhanced\"}, {\"identifier\": \"tr-tr-x-ama-local\", \"language\": \"tr-TR\", \"name\": \"tr-tr-x-ama-local\", \"quality\": \"Enhanced\"}, {\"identifier\": \"fr-fr-x-frb-network\", \"language\": \"fr-FR\", \"name\": \"fr-fr-x-frb-network\", \"quality\": \"Enhanced\"}, {\"identifier\": \"ja-jp-x-jad-local\", \"language\": \"ja-JP\", \"name\": \"ja-jp-x-jad-local\", \"quality\": \"Enhanced\"}, {\"identifier\": \"pt-pt-x-jfb-local\", \"language\": \"pt-PT\", \"name\": \"pt-pt-x-jfb-local\", \"quality\": \"Enhanced\"}, {\"identifier\": \"it-it-x-itb-network\", \"language\": \"it-IT\", \"name\": \"it-it-x-itb-network\", \"quality\": \"Enhanced\"}, {\"identifier\": \"da-dk-x-vfb-local\", \"language\": \"da-DK\", \"name\": \"da-dk-x-vfb-local\", \"quality\": \"Enhanced\"}, {\"identifier\": \"id-id-x-dfz-local\", \"language\": \"in-ID\", \"name\": \"id-id-x-dfz-local\", \"quality\": \"Enhanced\"}, {\"identifier\": \"nb-no-x-tmg-local\", \"language\": \"nb-NO\", \"name\": \"nb-no-x-tmg-local\", \"quality\": \"Enhanced\"}, {\"identifier\": \"ml-in-x-mlf-network\", \"language\": \"ml-IN\", \"name\": \"ml-in-x-mlf-network\", \"quality\": \"Enhanced\"}, {\"identifier\": \"de-de-x-deg-local\", \"language\": \"de-DE\", \"name\": \"de-de-x-deg-local\", \"quality\": \"Enhanced\"}, {\"identifier\": \"el-gr-x-vfz-network\", \"language\": \"el-GR\", \"name\": \"el-gr-x-vfz-network\", \"quality\": \"Enhanced\"}, {\"identifier\": \"en-us-x-tpf-network\", \"language\": \"en-US\", \"name\": \"en-us-x-tpf-network\", \"quality\": \"Enhanced\"}, {\"identifier\": \"mr-in-x-mrf-local\", \"language\": \"mr-IN\", \"name\": \"mr-in-x-mrf-local\", \"quality\": \"Enhanced\"}, {\"identifier\": \"ms-my-x-msd-network\", \"language\": \"ms-MY\", \"name\": \"ms-my-x-msd-network\", \"quality\": \"Enhanced\"}, {\"identifier\": \"fr-fr-x-fra-network\", \"language\": \"fr-FR\", \"name\": \"fr-fr-x-fra-network\", \"quality\": \"Enhanced\"}, {\"identifier\": \"pa-in-x-pad-network\", \"language\": \"pa-IN\", \"name\": \"pa-in-x-pad-network\", \"quality\": \"Enhanced\"}, {\"identifier\": \"sv-se-x-lfs-network\", \"language\": \"sv-SE\", \"name\": \"sv-se-x-lfs-network\", \"quality\": \"Enhanced\"}, {\"identifier\": \"bn-in-x-bnx-local\", \"language\": \"bn-IN\", \"name\": \"bn-in-x-bnx-local\", \"quality\": \"Enhanced\"}, {\"identifier\": \"pt-br-x-ptd-network\", \"language\": \"pt-BR\", \"name\": \"pt-br-x-ptd-network\", \"quality\": \"Enhanced\"}, {\"identifier\": \"ta-in-x-tac-local\", \"language\": \"ta-IN\", \"name\": \"ta-in-x-tac-local\", \"quality\": \"Enhanced\"}, {\"identifier\": \"da-dk-x-sfp-local\", \"language\": \"da-DK\", \"name\": \"da-dk-x-sfp-local\", \"quality\": \"Enhanced\"}, {\"identifier\": \"pa-in-x-pae-network\", \"language\": \"pa-IN\", \"name\": \"pa-in-x-pae-network\", \"quality\": \"Enhanced\"}, {\"identifier\": \"ms-my-x-msc-network\", \"language\": \"ms-MY\", \"name\": \"ms-my-x-msc-network\", \"quality\": \"Enhanced\"}, {\"identifier\": \"id-id-x-idc-local\", \"language\": \"in-ID\", \"name\": \"id-id-x-idc-local\", \"quality\": \"Enhanced\"}, {\"identifier\": \"nb-no-x-cmj-local\", \"language\": \"nb-NO\", \"name\": \"nb-no-x-cmj-local\", \"quality\": \"Enhanced\"}, {\"identifier\": \"ca\", \"language\": \"ca\", \"name\": \"ca\", \"quality\": \"Default\"}, {\"identifier\": \"ko-kr-x-kob-local\", \"language\": \"ko-KR\", \"name\": \"ko-kr-x-kob-local\", \"quality\": \"Enhanced\"}, {\"identifier\": \"ta-in-x-tac-network\", \"language\": \"ta-IN\", \"name\": \"ta-in-x-tac-network\", \"quality\": \"Enhanced\"}, {\"identifier\": \"fr-fr-x-vlf-local\", \"language\": \"fr-FR\", \"name\": \"fr-fr-x-vlf-local\", \"quality\": \"Enhanced\"}, {\"identifier\": \"en-us-x-iog-local\", \"language\": \"en-US\", \"name\": \"en-us-x-iog-local\", \"quality\": \"Enhanced\"}, {\"identifier\": \"cmn-tw-x-ctd-local\", \"language\": \"zh-TW\", \"name\": \"cmn-tw-x-ctd-local\", \"quality\": \"Enhanced\"}, {\"identifier\": \"bg-bg-language\", \"language\": \"bg-BG\", \"name\": \"bg-bg-language\", \"quality\": \"Enhanced\"}, {\"identifier\": \"de-de-x-nfh-network\", \"language\": \"de-DE\", \"name\": \"de-de-x-nfh-network\", \"quality\": \"Enhanced\"}, {\"identifier\": \"en-in-x-ena-local\", \"language\": \"en-IN\", \"name\": \"en-in-x-ena-local\", \"quality\": \"Enhanced\"}, {\"identifier\": \"fr-fr-x-frd-local\", \"language\": \"fr-FR\", \"name\": \"fr-fr-x-frd-local\", \"quality\": \"Enhanced\"}, {\"identifier\": \"pt-br-x-afs-network\", \"language\": \"pt-BR\", \"name\": \"pt-br-x-afs-network\", \"quality\": \"Enhanced\"}, {\"identifier\": \"en-gb-x-gbg-network\", \"language\": \"en-GB\", \"name\": \"en-gb-x-gbg-network\", \"quality\": \"Enhanced\"}, {\"identifier\": \"tr-tr-x-mfm-network\", \"language\": \"tr-TR\", \"name\": \"tr-tr-x-mfm-network\", \"quality\": \"Enhanced\"}, {\"identifier\": \"ja-jp-x-jac-network\", \"language\": \"ja-JP\", \"name\": \"ja-jp-x-jac-network\", \"quality\": \"Enhanced\"}, {\"identifier\": \"ms-my-x-mse-local\", \"language\": \"ms-MY\", \"name\": \"ms-my-x-mse-local\", \"quality\": \"Enhanced\"}, {\"identifier\": \"es-US-language\", \"language\": \"es-US\", \"name\": \"es-US-language\", \"quality\": \"Enhanced\"}, {\"identifier\": \"sv-SE-language\", \"language\": \"sv-SE\", \"name\": \"sv-SE-language\", \"quality\": \"Enhanced\"}, {\"identifier\": \"cmn-cn-x-cce-local\", \"language\": \"zh-CN\", \"name\": \"cmn-cn-x-cce-local\", \"quality\": \"Enhanced\"}, {\"identifier\": \"it-it-x-itd-network\", \"language\": \"it-IT\", \"name\": \"it-it-x-itd-network\", \"quality\": \"Enhanced\"}, {\"identifier\": \"ta-in-x-tad-network\", \"language\": \"ta-IN\", \"name\": \"ta-in-x-tad-network\", \"quality\": \"Enhanced\"}, {\"identifier\": \"yue-hk-x-yue-network\", \"language\": \"yue-HK\", \"name\": \"yue-hk-x-yue-network\", \"quality\": \"Enhanced\"}, {\"identifier\": \"lv-lv-x-imr-network\", \"language\": \"lv-LV\", \"name\": \"lv-lv-x-imr-network\", \"quality\": \"Enhanced\"}, {\"identifier\": \"en-us-x-iol-local\", \"language\": \"en-US\", \"name\": \"en-us-x-iol-local\", \"quality\": \"Enhanced\"}]"
   ]
  },
  {
   "cell_type": "code",
   "execution_count": 9,
   "metadata": {},
   "outputs": [
    {
     "name": "stdout",
     "output_type": "stream",
     "text": [
      "en-au-x-aud-network\n",
      "en-au-x-aub-local\n",
      "en-AU-language\n",
      "en-au-x-auc-network\n",
      "en-au-x-aua-network\n",
      "en-au-x-aua-local\n",
      "en-au-x-aud-local\n",
      "en-au-x-aub-network\n",
      "en-au-x-auc-local\n"
     ]
    }
   ],
   "source": [
    "for voice in voices:\n",
    "    if voice['language'] == 'en-AU':\n",
    "        print(voice['identifier'])"
   ]
  },
  {
   "cell_type": "code",
   "execution_count": 14,
   "metadata": {},
   "outputs": [],
   "source": [
    "import requests\n",
    "import os\n",
    "from dotenv import load_dotenv\n",
    "\n",
    "load_dotenv()\n",
    "\n",
    "KEY = os.environ['API_KEY']\n",
    "\n",
    "query = 'Write a clever sentence.'\n",
    "\n",
    "headers = {\n",
    "    'Content-Type': 'application/json',\n",
    "    'Authorization': 'Bearer ' + KEY,\n",
    "}\n",
    "\n",
    "json_data = {\n",
    "    'model': 'gpt-3.5-turbo',\n",
    "    'messages': [\n",
    "        {\n",
    "            'role': 'user',\n",
    "            'content': query,\n",
    "        },\n",
    "    ],\n",
    "    'temperature': 0.7,\n",
    "}\n",
    "response = requests.post('https://api.openai.com/v1/chat/completions', headers=headers, json=json_data)"
   ]
  },
  {
   "cell_type": "code",
   "execution_count": 15,
   "metadata": {},
   "outputs": [
    {
     "name": "stdout",
     "output_type": "stream",
     "text": [
      "I told my wife she was drawing her eyebrows too high, she looked surprised.\n"
     ]
    }
   ],
   "source": [
    "import json\n",
    "data = json.loads(response.text)\n",
    "\n",
    "print(data['choices'][0]['message']['content'])\n"
   ]
  },
  {
   "cell_type": "code",
   "execution_count": null,
   "metadata": {},
   "outputs": [],
   "source": []
  }
 ],
 "metadata": {
  "kernelspec": {
   "display_name": "base",
   "language": "python",
   "name": "python3"
  },
  "language_info": {
   "codemirror_mode": {
    "name": "ipython",
    "version": 3
   },
   "file_extension": ".py",
   "mimetype": "text/x-python",
   "name": "python",
   "nbconvert_exporter": "python",
   "pygments_lexer": "ipython3",
   "version": "3.9.7"
  },
  "orig_nbformat": 4
 },
 "nbformat": 4,
 "nbformat_minor": 2
}
